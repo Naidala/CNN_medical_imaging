{
  "nbformat": 4,
  "nbformat_minor": 0,
  "metadata": {
    "colab": {
      "provenance": [],
      "authorship_tag": "ABX9TyNKjbiKGmZ0pEYnMkIUALF8",
      "include_colab_link": true
    },
    "kernelspec": {
      "name": "python3",
      "display_name": "Python 3"
    },
    "accelerator": "GPU"
  },
  "cells": [
    {
      "cell_type": "markdown",
      "metadata": {
        "id": "view-in-github",
        "colab_type": "text"
      },
      "source": [
        "<a href=\"https://colab.research.google.com/github/Naidala/CNN_medical_imaging/blob/main/Task5_Ensemble2Class.ipynb\" target=\"_parent\"><img src=\"https://colab.research.google.com/assets/colab-badge.svg\" alt=\"Open In Colab\"/></a>"
      ]
    },
    {
      "cell_type": "code",
      "metadata": {
        "id": "tyfnwIDFZ522"
      },
      "source": [
        "from sklearn import metrics\n",
        "from sklearn.metrics import confusion_matrix\n",
        "from sklearn.metrics import accuracy_score\n",
        "from sklearn.metrics import classification_report\n",
        "import matplotlib.pyplot as plt\n",
        "import numpy as np\n",
        "import itertools\n",
        "\n",
        "#Plotting of the Matrix confusion\n",
        "def plot_confusion_matrix(cm,\n",
        "                          cell,\n",
        "                          title='Confusion matrix',\n",
        "                          cmap=None,\n",
        "                          normalize=True):\n",
        "\n",
        "  accuracy = np.trace(cm) / float(np.sum(cm))\n",
        "  misclass = 1 - accuracy\n",
        "  cmap = plt.get_cmap('Blues')\n",
        "\n",
        "  plt.figure(figsize=(8, 6))\n",
        "  plt.imshow(cm, interpolation='nearest', cmap=cmap)\n",
        "  plt.title(title)\n",
        "  plt.colorbar()\n",
        "\n",
        "  thresh = cm.max() / 1.5 if normalize else cm.max() / 2\n",
        "  for i, j in itertools.product(range(cm.shape[0]), range(cm.shape[1])):\n",
        "    plt.text(j, i, \"{:,}\".format(cm[i, j]),\n",
        "                    horizontalalignment=\"center\",\n",
        "                    color=\"white\" if cm[i, j] > thresh else \"black\")\n",
        "\n",
        "  plt.tight_layout()\n",
        "  plt.ylabel('True label')\n",
        "  plt.xticks(range(0,cell),)\n",
        "  plt.yticks(range(0,cell),)\n",
        "  plt.xlabel('Predicted label\\naccuracy={:0.4f}; misclass={:0.4f}'.format(accuracy, misclass))\n",
        "  plt.show()"
      ],
      "execution_count": null,
      "outputs": []
    },
    {
      "cell_type": "code",
      "metadata": {
        "id": "Ut-E6Fqobxsu",
        "outputId": "cba891ca-33fb-4ea7-d3c9-9ac0eebba78a",
        "colab": {
          "base_uri": "https://localhost:8080/",
          "height": 51
        }
      },
      "source": [
        "%tensorflow_version 1.x\n",
        "import tensorflow as tf\n",
        "import numpy as np\n",
        "from tensorflow import keras\n",
        "import matplotlib.pyplot as plt\n",
        "from google.colab import drive\n",
        "import os\n",
        "from tensorflow.keras.preprocessing.image import ImageDataGenerator\n",
        "import copy\n",
        "\n",
        "drive.mount(\"/content/drive/\", force_remount=True)\n",
        "out_path = \"/content/drive/My Drive/CompIntProjects/FinalProject2019/numpy data/\""
      ],
      "execution_count": null,
      "outputs": [
        {
          "output_type": "stream",
          "text": [
            "TensorFlow 1.x selected.\n",
            "Mounted at /content/drive/\n"
          ],
          "name": "stdout"
        }
      ]
    },
    {
      "cell_type": "code",
      "metadata": {
        "id": "JrCeOkYtgMqa"
      },
      "source": [
        "  test_images = np.load(os.path.join(out_path,'public_test_tensor.npy'))\n",
        "  test_labels = np.load(os.path.join(out_path,'public_test_labels.npy'))\n",
        "  test_images = test_images.astype('float32') / 65535\n",
        "  test_images = test_images.reshape((len(test_images), 150, 150, 1))\n",
        "  test_images = test_images[1:len(test_images):2]\n",
        "  test_labels = test_labels[1:len(test_labels):2]\n",
        "  for i in range(0,len(test_labels)):\n",
        "    if test_labels[i] > 0 and test_labels[i] < 3 :\n",
        "      test_labels[i] = 0\n",
        "    else :\n",
        "      test_labels[i] = 1"
      ],
      "execution_count": null,
      "outputs": []
    },
    {
      "cell_type": "markdown",
      "metadata": {
        "id": "iU_GAJTkga51"
      },
      "source": [
        "## SCRATCH"
      ]
    },
    {
      "cell_type": "code",
      "metadata": {
        "id": "wFzMgElfgW5n",
        "outputId": "ae09374d-70ab-486a-9aea-f32fa2618f4a",
        "colab": {
          "base_uri": "https://localhost:8080/",
          "height": 173
        }
      },
      "source": [
        "from tensorflow.keras.models import load_model\n",
        "save_dir = \"/content/drive/My Drive/CompIntProjects/2classes\"\n",
        "model_scratch = load_model(os.path.join(save_dir,\"2classes_scratch.h5\"))\n",
        "test_loss, test_acc = model_scratch.evaluate(test_images, test_labels)\n",
        "print('test_acc: ', test_acc)"
      ],
      "execution_count": null,
      "outputs": [
        {
          "output_type": "stream",
          "text": [
            "WARNING:tensorflow:From /tensorflow-1.15.2/python3.6/tensorflow_core/python/ops/resource_variable_ops.py:1630: calling BaseResourceVariable.__init__ (from tensorflow.python.ops.resource_variable_ops) with constraint is deprecated and will be removed in a future version.\n",
            "Instructions for updating:\n",
            "If using Keras pass *_constraint arguments to layers.\n",
            "WARNING:tensorflow:From /tensorflow-1.15.2/python3.6/tensorflow_core/python/ops/nn_impl.py:183: where (from tensorflow.python.ops.array_ops) is deprecated and will be removed in a future version.\n",
            "Instructions for updating:\n",
            "Use tf.where in 2.0, which has the same broadcast rule as np.where\n",
            "336/336 [==============================] - 7s 21ms/sample - loss: 0.9984 - acc: 0.8274\n",
            "test_acc:  0.82738096\n"
          ],
          "name": "stdout"
        }
      ]
    },
    {
      "cell_type": "code",
      "metadata": {
        "id": "2lYgslqXguBU",
        "colab": {
          "base_uri": "https://localhost:8080/",
          "height": 467
        },
        "outputId": "c3effbeb-862b-4115-9f5d-7a9b5c6e9a3e"
      },
      "source": [
        "pred = np.round(model_scratch.predict(test_images))\n",
        "true = test_labels\n",
        "\n",
        "cm = metrics.confusion_matrix(true,pred)\n",
        "plot_confusion_matrix(cm,2)"
      ],
      "execution_count": null,
      "outputs": [
        {
          "output_type": "display_data",
          "data": {
            "image/png": "[encoded data removed]",
            "text/plain": [
              "<Figure size 576x432 with 2 Axes>"
            ]
          },
          "metadata": {
            "tags": [],
            "needs_background": "light"
          }
        }
      ]
    },
    {
      "cell_type": "markdown",
      "metadata": {
        "id": "7y9eW4EogXt5"
      },
      "source": [
        "## AUGMENTED"
      ]
    },
    {
      "cell_type": "code",
      "metadata": {
        "id": "STKyG6rVgfVP",
        "colab": {
          "base_uri": "https://localhost:8080/",
          "height": 68
        },
        "outputId": "4489fc2c-0d23-4726-b04a-bf8a6b3f0023"
      },
      "source": [
        "from tensorflow.keras.models import load_model\n",
        "save_dir = \"/content/drive/My Drive/CompIntProjects/2classes\"\n",
        "model_aug = load_model(os.path.join(save_dir,\"2classes_aug.h5\"))\n",
        "test_loss, test_acc = model_aug.evaluate(test_images, test_labels)\n",
        "print('test_acc: ', test_acc)"
      ],
      "execution_count": null,
      "outputs": [
        {
          "output_type": "stream",
          "text": [
            "WARNING:tensorflow:Large dropout rate: 0.6 (>0.5). In TensorFlow 2.x, dropout() uses dropout rate instead of keep_prob. Please ensure that this is intended.\n",
            "336/336 [==============================] - 0s 426us/sample - loss: 0.3011 - acc: 0.8690\n",
            "test_acc:  0.86904764\n"
          ],
          "name": "stdout"
        }
      ]
    },
    {
      "cell_type": "code",
      "metadata": {
        "id": "5MtU_4tWg1X1",
        "colab": {
          "base_uri": "https://localhost:8080/",
          "height": 467
        },
        "outputId": "911cd7fe-e003-4671-9316-504af4c0b3c8"
      },
      "source": [
        "pred = np.round(model_aug.predict(test_images))\n",
        "true = test_labels\n",
        "\n",
        "cm = metrics.confusion_matrix(true,pred)\n",
        "plot_confusion_matrix(cm,2)"
      ],
      "execution_count": null,
      "outputs": [
        {
          "output_type": "display_data",
          "data": {
            "image/png": "[encoded data removed]",
            "text/plain": [
              "<Figure size 576x432 with 2 Axes>"
            ]
          },
          "metadata": {
            "tags": [],
            "needs_background": "light"
          }
        }
      ]
    },
    {
      "cell_type": "markdown",
      "metadata": {
        "id": "xIAeGssphUI-"
      },
      "source": [
        "## PRE-TRAINED"
      ]
    },
    {
      "cell_type": "code",
      "metadata": {
        "id": "Ixsv6rVzDEYW",
        "colab": {
          "base_uri": "https://localhost:8080/",
          "height": 51
        },
        "outputId": "ef528a8f-dd2d-48f2-ecf0-8e807d90feaf"
      },
      "source": [
        "from tensorflow.keras.models import load_model\n",
        "save_dir = \"/content/drive/My Drive/CompIntProjects/2classes\"\n",
        "model_pre = load_model(os.path.join(save_dir,\"2classes_pre_trained.h5\"))"
      ],
      "execution_count": null,
      "outputs": [
        {
          "output_type": "stream",
          "text": [
            "WARNING:tensorflow:Large dropout rate: 0.6 (>0.5). In TensorFlow 2.x, dropout() uses dropout rate instead of keep_prob. Please ensure that this is intended.\n",
            "WARNING:tensorflow:Error in loading the saved optimizer state. As a result, your model is starting with a freshly initialized optimizer.\n"
          ],
          "name": "stdout"
        }
      ]
    },
    {
      "cell_type": "code",
      "metadata": {
        "id": "J0E33aajDVgV",
        "colab": {
          "base_uri": "https://localhost:8080/",
          "height": 467
        },
        "outputId": "c68c8d7f-b6ef-4d53-a557-50b3311061b4"
      },
      "source": [
        "test_images_pre = copy.deepcopy(test_images.repeat(repeats = 3, axis = 3))\n",
        "pred = np.round(model_pre.predict(test_images_pre))\n",
        "true = test_labels\n",
        "\n",
        "cm = metrics.confusion_matrix(true,pred)\n",
        "plot_confusion_matrix(cm,2)"
      ],
      "execution_count": null,
      "outputs": [
        {
          "output_type": "display_data",
          "data": {
            "image/png": "[encoded data removed]",
            "text/plain": [
              "<Figure size 576x432 with 2 Axes>"
            ]
          },
          "metadata": {
            "tags": [],
            "needs_background": "light"
          }
        }
      ]
    },
    {
      "cell_type": "markdown",
      "metadata": {
        "id": "b1wxzV3WE_dE"
      },
      "source": [
        "# FINE-TUNED"
      ]
    },
    {
      "cell_type": "code",
      "metadata": {
        "id": "NcrVmQhwDONu",
        "colab": {
          "base_uri": "https://localhost:8080/",
          "height": 34
        },
        "outputId": "9eeae855-1d8e-4cae-bbfc-f5fa86e1d776"
      },
      "source": [
        "from tensorflow.keras.models import load_model\n",
        "save_dir = \"/content/drive/My Drive/CompIntProjects/2classes\"\n",
        "model_fine = load_model(os.path.join(save_dir,\"2classes_fine.h5\"))"
      ],
      "execution_count": null,
      "outputs": [
        {
          "output_type": "stream",
          "text": [
            "WARNING:tensorflow:Large dropout rate: 0.6 (>0.5). In TensorFlow 2.x, dropout() uses dropout rate instead of keep_prob. Please ensure that this is intended.\n"
          ],
          "name": "stdout"
        }
      ]
    },
    {
      "cell_type": "code",
      "metadata": {
        "id": "w6Q9ZxncDXGA",
        "colab": {
          "base_uri": "https://localhost:8080/",
          "height": 467
        },
        "outputId": "99cabceb-cb64-4422-d266-eae0e87ad0d5"
      },
      "source": [
        "test_images_fine = copy.deepcopy(test_images.repeat(repeats = 3, axis = 3))\n",
        "pred = np.round(model_fine.predict(test_images_fine))\n",
        "true = test_labels\n",
        "\n",
        "cm = metrics.confusion_matrix(true,pred)\n",
        "plot_confusion_matrix(cm,2)"
      ],
      "execution_count": null,
      "outputs": [
        {
          "output_type": "display_data",
          "data": {
            "image/png": "[encoded data removed]",
            "text/plain": [
              "<Figure size 576x432 with 2 Axes>"
            ]
          },
          "metadata": {
            "tags": [],
            "needs_background": "light"
          }
        }
      ]
    },
    {
      "cell_type": "markdown",
      "metadata": {
        "id": "ZOqEoGPBFNOr"
      },
      "source": [
        "# ENSEMBLE"
      ]
    },
    {
      "cell_type": "code",
      "metadata": {
        "id": "FYaJ4NN3FPLc",
        "colab": {
          "base_uri": "https://localhost:8080/",
          "height": 467
        },
        "outputId": "e0a00486-371c-4182-b8af-858c15905c0b"
      },
      "source": [
        "preds_fine = model_fine.predict(test_images_fine)\n",
        "preds_pre = model_pre.predict(test_images_pre)\n",
        "\n",
        "final_preds = (preds_fine + preds_pre)/2\n",
        "final_preds_new = np.round(final_preds)\n",
        "\n",
        "cm = metrics.confusion_matrix(true,final_preds_new)\n",
        "plot_confusion_matrix(cm,2)"
      ],
      "execution_count": null,
      "outputs": [
        {
          "output_type": "display_data",
          "data": {
            "image/png": "[encoded data removed]",
            "text/plain": [
              "<Figure size 576x432 with 2 Axes>"
            ]
          },
          "metadata": {
            "tags": [],
            "needs_background": "light"
          }
        }
      ]
    }
  ]
}