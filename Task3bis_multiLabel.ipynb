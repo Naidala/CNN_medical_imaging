{
  "nbformat": 4,
  "nbformat_minor": 0,
  "metadata": {
    "colab": {
      "provenance": [],
      "authorship_tag": "ABX9TyNM+iwg64ZfC8T7T9Y+qxab",
      "include_colab_link": true
    },
    "kernelspec": {
      "name": "python3",
      "display_name": "Python 3"
    },
    "accelerator": "GPU"
  },
  "cells": [
    {
      "cell_type": "markdown",
      "metadata": {
        "id": "view-in-github",
        "colab_type": "text"
      },
      "source": [
        "<a href=\"https://colab.research.google.com/github/Naidala/CNN_medical_imaging/blob/main/Task3bis_multiLabel.ipynb\" target=\"_parent\"><img src=\"https://colab.research.google.com/assets/colab-badge.svg\" alt=\"Open In Colab\"/></a>"
      ]
    },
    {
      "cell_type": "code",
      "metadata": {
        "id": "JYRNw3Hqf16K"
      },
      "source": [
        "EPOCHS = 75\n",
        "INIT_LR = 1e-3\n",
        "BS = 64\n",
        "IMAGE_DIMS = (150, 150, 1)"
      ],
      "execution_count": null,
      "outputs": []
    },
    {
      "cell_type": "code",
      "metadata": {
        "id": "Ut-E6Fqobxsu",
        "outputId": "868bb816-efbd-45d6-cb58-123c385bccaa",
        "colab": {
          "base_uri": "https://localhost:8080/",
          "height": 139
        }
      },
      "source": [
        "%tensorflow_version 1.x\n",
        "import tensorflow as tf\n",
        "import numpy as np\n",
        "from tensorflow import keras\n",
        "import matplotlib.pyplot as plt\n",
        "from google.colab import drive\n",
        "import os\n",
        "from tensorflow.keras.preprocessing.image import ImageDataGenerator\n",
        "import copy\n",
        "\n",
        "\n",
        "############################\n",
        "\n",
        "def plot_acc_loss(history):\n",
        "  acc = history.history['acc']\n",
        "  val_acc = history.history['val_acc']\n",
        "  loss = history.history['loss']\n",
        "  val_loss = history.history['val_loss']\n",
        "  epochs = range(len(acc))\n",
        "\n",
        "  plt.plot(epochs, acc, 'r', label='Training acc')\n",
        "  plt.plot(epochs, val_acc, 'b', label='Validation acc')\n",
        "  plt.title('Training and validation accuracy')\n",
        "  plt.legend()\n",
        "  plt.figure()\n",
        "  plt.plot(epochs, loss, 'r', label='Training loss')\n",
        "  plt.plot(epochs, val_loss, 'b', label='Validation loss')\n",
        "  plt.title('Training and validation loss')\n",
        "  plt.legend()\n",
        "  plt.show()\n",
        "\n",
        "\n",
        "def best_epoch(history):\n",
        "  x = history.history['val_loss']\n",
        "  k = 3\n",
        "  trend = []\n",
        "  stop = 0\n",
        "  for i in range(k,len(x)-k):\n",
        "    if stop == 0:\n",
        "      num = 0\n",
        "      for j in range(-k, k+1):\n",
        "        num = x[i+j] + num\n",
        "      if len(trend) == 0:\n",
        "        trend.append(num/(2*k+1))\n",
        "      elif num/(2*k+1) <= trend[len(trend)-1] + 0.005:\n",
        "        trend.append(num/(2*k+1))\n",
        "      else:\n",
        "        stop = 1\n",
        "  print(2*k+len(trend))\n",
        "\n",
        "\n",
        "############################\n",
        "drive.mount('/content/drive/')\n",
        "out_path = \"/content/drive/My Drive/CompIntProjects/FinalProject2019/numpy data/\"\n",
        "\n",
        "def load_data():\n",
        "  train_images = np.load(os.path.join(out_path,'train_tensor.npy'))\n",
        "  train_labels = np.load(os.path.join(out_path,'train_labels.npy'))\n",
        "  test_images = np.load(os.path.join(out_path,'public_test_tensor.npy'))\n",
        "  test_labels = np.load(os.path.join(out_path,'public_test_labels.npy'))\n",
        "  train_images = train_images.astype('float32') / 65535   #BW 16-bit\n",
        "  train_images = train_images.reshape((len(train_images), 150, 150, 1))\n",
        "  test_images = test_images.astype('float32') / 65535\n",
        "  test_images = test_images.reshape((len(test_images), 150, 150, 1))\n",
        "  return train_images, train_labels, test_images, test_labels\n",
        "\n",
        "\n",
        "def abnormal_variables():\n",
        "  train_images, train_labels, test_images, test_labels = load_data()\n",
        "  train_images = train_images[1:len(train_images):2]\n",
        "  train_labels = train_labels[1:len(train_labels):2]\n",
        "  test_images = test_images[1:len(test_images):2]\n",
        "  test_labels = test_labels[1:len(test_labels):2]\n",
        "  return train_images, train_labels, test_images, test_labels\n",
        "\n",
        "\n",
        "def labels_in_four(labels):\n",
        "  label_words = []\n",
        "  for i in range(0,len(labels)):\n",
        "    if labels[i] == 1:\n",
        "      label_words.append(('mass','good'))\n",
        "    elif labels[i] == 2:\n",
        "      label_words.append(('mass','bad'))\n",
        "    elif labels[i] == 3:\n",
        "      label_words.append(('calc','good'))\n",
        "    else:\n",
        "      label_words.append(('calc','bad'))\n",
        "  return label_words\n",
        "\n",
        "\n",
        "def augment(train_images, train_labels):\n",
        "  np.random.seed(5)\n",
        "  np.random.shuffle(train_images)\n",
        "  np.random.seed(5)\n",
        "  np.random.shuffle(train_labels)\n",
        "  PERCENTAGE_VALIDATION = 0.2\n",
        "  num_validation_samples = round(len(train_labels)*PERCENTAGE_VALIDATION)\n",
        "  my_val_images = copy.deepcopy(train_images[:num_validation_samples])\n",
        "  my_val_labels = copy.deepcopy(train_labels[:num_validation_samples])\n",
        "  my_train_images = copy.deepcopy(train_images[num_validation_samples:])\n",
        "  my_train_labels = copy.deepcopy(train_labels[num_validation_samples:])\n",
        "  return my_train_images, my_train_labels, my_val_images, my_val_labels"
      ],
      "execution_count": null,
      "outputs": [
        {
          "output_type": "stream",
          "text": [
            "TensorFlow 1.x selected.\n",
            "Go to this URL in a browser: https://accounts.google.com/o/oauth2/auth?client_id=947318989803-6bn6qk8qdgf4n4g3pfee6491hc0brc4i.apps.googleusercontent.com&redirect_uri=urn%3aietf%3awg%3aoauth%3a2.0%3aoob&response_type=code&scope=email%20https%3a%2f%2fwww.googleapis.com%2fauth%2fdocs.test%20https%3a%2f%2fwww.googleapis.com%2fauth%2fdrive%20https%3a%2f%2fwww.googleapis.com%2fauth%2fdrive.photos.readonly%20https%3a%2f%2fwww.googleapis.com%2fauth%2fpeopleapi.readonly\n",
            "\n",
            "Enter your authorization code:\n",
            "··········\n",
            "Mounted at /content/drive/\n"
          ],
          "name": "stdout"
        }
      ]
    },
    {
      "cell_type": "code",
      "metadata": {
        "id": "avRX06YJdb-c",
        "outputId": "74b4da24-8de4-4bf0-9e66-e29376e8ee67",
        "colab": {
          "base_uri": "https://localhost:8080/",
          "height": 34
        }
      },
      "source": [
        "from keras.models import Sequential\n",
        "from keras.layers.normalization import BatchNormalization\n",
        "from keras.layers.convolutional import Conv2D\n",
        "from keras.layers.convolutional import MaxPooling2D\n",
        "from keras.layers.core import Activation\n",
        "from keras.layers.core import Flatten\n",
        "from keras.layers.core import Dropout\n",
        "from keras.layers.core import Dense\n",
        "\n",
        "class SmallerVGGNet:\t\t\t# simpler versione of VGGNet\n",
        "\tdef build(classes, finalAct=\"softmax\"):\n",
        "\t\tmodel = Sequential()\n",
        "\n",
        "\t\tmodel.add(Conv2D(32, (3, 3), padding=\"same\",input_shape=IMAGE_DIMS))\n",
        "\t\tmodel.add(Activation(\"relu\"))\n",
        "\t\tmodel.add(MaxPooling2D(pool_size=(3, 3)))\n",
        "\t\tmodel.add(Dropout(0.25))\n",
        "\n",
        "\t\tmodel.add(Conv2D(64, (3, 3), padding=\"same\"))\n",
        "\t\tmodel.add(Activation(\"relu\"))\n",
        "\t\tmodel.add(Conv2D(64, (3, 3), padding=\"same\"))\n",
        "\t\tmodel.add(Activation(\"relu\"))\n",
        "\t\tmodel.add(MaxPooling2D(pool_size=(3, 3)))\n",
        "\t\tmodel.add(Dropout(0.25))\n",
        "\n",
        "\t\tmodel.add(Conv2D(128, (3, 3), padding=\"same\"))\n",
        "\t\tmodel.add(Activation(\"relu\"))\n",
        "\t\tmodel.add(Conv2D(128, (3, 3), padding=\"same\"))\n",
        "\t\tmodel.add(Activation(\"relu\"))\n",
        "\t\tmodel.add(MaxPooling2D(pool_size=(2, 2)))\n",
        "\t\tmodel.add(Dropout(0.25))\n",
        "\n",
        "\t\tmodel.add(Flatten())\n",
        "\t\tmodel.add(Dense(150))\n",
        "\t\tmodel.add(Activation(\"relu\"))\n",
        "\t\tmodel.add(BatchNormalization())\n",
        "\t\tmodel.add(Dropout(0.45))\n",
        "\n",
        "\t\tmodel.add(Dense(classes))\n",
        "\t\tmodel.add(Activation(finalAct))\n",
        "\n",
        "\t\treturn model"
      ],
      "execution_count": null,
      "outputs": [
        {
          "output_type": "stream",
          "text": [
            "Using TensorFlow backend.\n"
          ],
          "name": "stderr"
        }
      ]
    },
    {
      "cell_type": "code",
      "metadata": {
        "id": "k1KLv4TjjVQm",
        "outputId": "d08961a3-10b1-4013-8d3e-43d68aaa63cf",
        "colab": {
          "base_uri": "https://localhost:8080/",
          "height": 34
        }
      },
      "source": [
        "train_images_4, train_labels_4, test_images_4, test_labels_4 = abnormal_variables()\n",
        "train_labels_4 = labels_in_four(train_labels_4)\n",
        "test_labels_4 = labels_in_four(test_labels_4)\n",
        "\n",
        "from sklearn.preprocessing import MultiLabelBinarizer\n",
        "mlb = MultiLabelBinarizer()   # library to transform the word tuple (e.g. ('mass','bad'))\n",
        "mlb.fit(train_labels_4)       # into a binary vector [1, 0, 0, 1]\n",
        "mlb.fit(test_labels_4)\n",
        "print(mlb.classes_)\n",
        "train_labels_4 = mlb.transform(train_labels_4)\n",
        "test_labels_4 = mlb.transform(test_labels_4)\n",
        "\n",
        "my_train_images, my_train_labels, my_val_images, my_val_labels = augment(train_images_4, train_labels_4)"
      ],
      "execution_count": null,
      "outputs": [
        {
          "output_type": "stream",
          "text": [
            "['bad' 'calc' 'good' 'mass']\n"
          ],
          "name": "stdout"
        }
      ]
    },
    {
      "cell_type": "code",
      "metadata": {
        "id": "wPlobC9ItFEG"
      },
      "source": [
        "aug = ImageDataGenerator(rotation_range = 20,\n",
        "                         shear_range = 0.3,\n",
        "                         zoom_range = 0.5,\n",
        "                         height_shift_range = 0.1,\n",
        "                         width_shift_range = 0.1,\n",
        "                         horizontal_flip = True,\n",
        "                         vertical_flip = True,\n",
        "                         fill_mode = 'nearest')"
      ],
      "execution_count": null,
      "outputs": []
    },
    {
      "cell_type": "code",
      "metadata": {
        "id": "5u14uhVYohCc"
      },
      "source": [
        "from keras.optimizers import Adam\n",
        "model = SmallerVGGNet.build(\n",
        "\tclasses=len(mlb.classes_),\n",
        "\tfinalAct=\"sigmoid\")\n",
        "#opt = Adam(lr=INIT_LR, decay=INIT_LR / EPOCHS)\t\t# raggiunge 0.71 e non 0.74, probabilmente migliore per epoche lunghe (es. 1000)?\n",
        "opt = Adam(lr=INIT_LR)"
      ],
      "execution_count": null,
      "outputs": []
    },
    {
      "cell_type": "code",
      "metadata": {
        "id": "nqsjOMEVqOCC",
        "outputId": "2ae3e371-eec5-417e-fff4-502ad1c5675c",
        "colab": {
          "base_uri": "https://localhost:8080/",
          "height": 1000
        }
      },
      "source": [
        "model.compile(loss=\"binary_crossentropy\", optimizer=opt, metrics=[\"accuracy\"])\n",
        "\n",
        "H = model.fit_generator(\n",
        "\taug.flow(my_train_images,my_train_labels,batch_size = BS),\n",
        "  validation_data = (my_val_images,my_val_labels),\n",
        "\tsteps_per_epoch = len(my_train_labels) // BS,\n",
        "\tepochs=EPOCHS,\n",
        "  verbose=1)"
      ],
      "execution_count": null,
      "outputs": [
        {
          "output_type": "stream",
          "text": [
            "Epoch 1/75\n",
            "33/33 [==============================] - 4s 118ms/step - loss: 0.6936 - accuracy: 0.5651 - val_loss: 0.6858 - val_accuracy: 0.5748\n",
            "Epoch 2/75\n",
            "33/33 [==============================] - 4s 107ms/step - loss: 0.6584 - accuracy: 0.6123 - val_loss: 0.6817 - val_accuracy: 0.5748\n",
            "Epoch 3/75\n",
            "33/33 [==============================] - 4s 109ms/step - loss: 0.6440 - accuracy: 0.6466 - val_loss: 0.6778 - val_accuracy: 0.5710\n",
            "Epoch 4/75\n",
            "33/33 [==============================] - 4s 110ms/step - loss: 0.6440 - accuracy: 0.6409 - val_loss: 0.6804 - val_accuracy: 0.5748\n",
            "Epoch 5/75\n",
            "33/33 [==============================] - 4s 108ms/step - loss: 0.6474 - accuracy: 0.6312 - val_loss: 0.6732 - val_accuracy: 0.5729\n",
            "Epoch 6/75\n",
            "33/33 [==============================] - 4s 110ms/step - loss: 0.6385 - accuracy: 0.6517 - val_loss: 0.6720 - val_accuracy: 0.5710\n",
            "Epoch 7/75\n",
            "33/33 [==============================] - 4s 109ms/step - loss: 0.6398 - accuracy: 0.6443 - val_loss: 0.6629 - val_accuracy: 0.5710\n",
            "Epoch 8/75\n",
            "33/33 [==============================] - 4s 107ms/step - loss: 0.6371 - accuracy: 0.6449 - val_loss: 0.6597 - val_accuracy: 0.5794\n",
            "Epoch 9/75\n",
            "33/33 [==============================] - 3s 106ms/step - loss: 0.6280 - accuracy: 0.6531 - val_loss: 0.6495 - val_accuracy: 0.6238\n",
            "Epoch 10/75\n",
            "33/33 [==============================] - 4s 110ms/step - loss: 0.6347 - accuracy: 0.6443 - val_loss: 0.6690 - val_accuracy: 0.5748\n",
            "Epoch 11/75\n",
            "33/33 [==============================] - 4s 106ms/step - loss: 0.6316 - accuracy: 0.6537 - val_loss: 0.6457 - val_accuracy: 0.6631\n",
            "Epoch 12/75\n",
            "33/33 [==============================] - 4s 107ms/step - loss: 0.6297 - accuracy: 0.6586 - val_loss: 0.6380 - val_accuracy: 0.6556\n",
            "Epoch 13/75\n",
            "33/33 [==============================] - 4s 107ms/step - loss: 0.6360 - accuracy: 0.6532 - val_loss: 0.6481 - val_accuracy: 0.6701\n",
            "Epoch 14/75\n",
            "33/33 [==============================] - 4s 108ms/step - loss: 0.6352 - accuracy: 0.6499 - val_loss: 0.6582 - val_accuracy: 0.6210\n",
            "Epoch 15/75\n",
            "33/33 [==============================] - 4s 110ms/step - loss: 0.6340 - accuracy: 0.6510 - val_loss: 0.7084 - val_accuracy: 0.5734\n",
            "Epoch 16/75\n",
            "33/33 [==============================] - 3s 106ms/step - loss: 0.6335 - accuracy: 0.6534 - val_loss: 0.7146 - val_accuracy: 0.5748\n",
            "Epoch 17/75\n",
            "33/33 [==============================] - 4s 110ms/step - loss: 0.6363 - accuracy: 0.6469 - val_loss: 0.7467 - val_accuracy: 0.5724\n",
            "Epoch 18/75\n",
            "33/33 [==============================] - 4s 106ms/step - loss: 0.6281 - accuracy: 0.6522 - val_loss: 0.7135 - val_accuracy: 0.5720\n",
            "Epoch 19/75\n",
            "33/33 [==============================] - 4s 108ms/step - loss: 0.6169 - accuracy: 0.6691 - val_loss: 0.6633 - val_accuracy: 0.6126\n",
            "Epoch 20/75\n",
            "33/33 [==============================] - 4s 107ms/step - loss: 0.6316 - accuracy: 0.6520 - val_loss: 0.7433 - val_accuracy: 0.5678\n",
            "Epoch 21/75\n",
            "33/33 [==============================] - 4s 109ms/step - loss: 0.6338 - accuracy: 0.6552 - val_loss: 0.6867 - val_accuracy: 0.6023\n",
            "Epoch 22/75\n",
            "33/33 [==============================] - 4s 107ms/step - loss: 0.6225 - accuracy: 0.6649 - val_loss: 0.7943 - val_accuracy: 0.5650\n",
            "Epoch 23/75\n",
            "33/33 [==============================] - 3s 105ms/step - loss: 0.6452 - accuracy: 0.6453 - val_loss: 0.6344 - val_accuracy: 0.6640\n",
            "Epoch 24/75\n",
            "33/33 [==============================] - 4s 111ms/step - loss: 0.6229 - accuracy: 0.6624 - val_loss: 0.6675 - val_accuracy: 0.6093\n",
            "Epoch 25/75\n",
            "33/33 [==============================] - 3s 105ms/step - loss: 0.6258 - accuracy: 0.6581 - val_loss: 0.6613 - val_accuracy: 0.6084\n",
            "Epoch 26/75\n",
            "33/33 [==============================] - 4s 109ms/step - loss: 0.6135 - accuracy: 0.6744 - val_loss: 0.7215 - val_accuracy: 0.5692\n",
            "Epoch 27/75\n",
            "33/33 [==============================] - 4s 108ms/step - loss: 0.6280 - accuracy: 0.6555 - val_loss: 0.6668 - val_accuracy: 0.6005\n",
            "Epoch 28/75\n",
            "33/33 [==============================] - 4s 107ms/step - loss: 0.6083 - accuracy: 0.6751 - val_loss: 0.6091 - val_accuracy: 0.6738\n",
            "Epoch 29/75\n",
            "33/33 [==============================] - 4s 111ms/step - loss: 0.6126 - accuracy: 0.6703 - val_loss: 0.6194 - val_accuracy: 0.6556\n",
            "Epoch 30/75\n",
            "33/33 [==============================] - 4s 108ms/step - loss: 0.5937 - accuracy: 0.6822 - val_loss: 0.8928 - val_accuracy: 0.5967\n",
            "Epoch 31/75\n",
            "33/33 [==============================] - 4s 108ms/step - loss: 0.5975 - accuracy: 0.6833 - val_loss: 0.6246 - val_accuracy: 0.6514\n",
            "Epoch 32/75\n",
            "33/33 [==============================] - 3s 106ms/step - loss: 0.6049 - accuracy: 0.6754 - val_loss: 0.6046 - val_accuracy: 0.6659\n",
            "Epoch 33/75\n",
            "33/33 [==============================] - 3s 106ms/step - loss: 0.5960 - accuracy: 0.6856 - val_loss: 0.6156 - val_accuracy: 0.6682\n",
            "Epoch 34/75\n",
            "33/33 [==============================] - 3s 105ms/step - loss: 0.6013 - accuracy: 0.6812 - val_loss: 0.5768 - val_accuracy: 0.7145\n",
            "Epoch 35/75\n",
            "33/33 [==============================] - 3s 106ms/step - loss: 0.5957 - accuracy: 0.6911 - val_loss: 0.6262 - val_accuracy: 0.6505\n",
            "Epoch 36/75\n",
            "33/33 [==============================] - 4s 107ms/step - loss: 0.5936 - accuracy: 0.6880 - val_loss: 0.5788 - val_accuracy: 0.7023\n",
            "Epoch 37/75\n",
            "33/33 [==============================] - 3s 106ms/step - loss: 0.5879 - accuracy: 0.6917 - val_loss: 0.5725 - val_accuracy: 0.6939\n",
            "Epoch 38/75\n",
            "33/33 [==============================] - 3s 105ms/step - loss: 0.5851 - accuracy: 0.6956 - val_loss: 0.5588 - val_accuracy: 0.7159\n",
            "Epoch 39/75\n",
            "33/33 [==============================] - 4s 107ms/step - loss: 0.5820 - accuracy: 0.6923 - val_loss: 0.5640 - val_accuracy: 0.7164\n",
            "Epoch 40/75\n",
            "33/33 [==============================] - 4s 108ms/step - loss: 0.5735 - accuracy: 0.7090 - val_loss: 0.5515 - val_accuracy: 0.7107\n",
            "Epoch 41/75\n",
            "33/33 [==============================] - 4s 106ms/step - loss: 0.5809 - accuracy: 0.6951 - val_loss: 0.5797 - val_accuracy: 0.7009\n",
            "Epoch 42/75\n",
            "33/33 [==============================] - 4s 106ms/step - loss: 0.5765 - accuracy: 0.7031 - val_loss: 0.5814 - val_accuracy: 0.6785\n",
            "Epoch 43/75\n",
            "33/33 [==============================] - 4s 112ms/step - loss: 0.5676 - accuracy: 0.7132 - val_loss: 0.5348 - val_accuracy: 0.7280\n",
            "Epoch 44/75\n",
            "33/33 [==============================] - 4s 107ms/step - loss: 0.5725 - accuracy: 0.7007 - val_loss: 0.5550 - val_accuracy: 0.7299\n",
            "Epoch 45/75\n",
            "33/33 [==============================] - 4s 109ms/step - loss: 0.5763 - accuracy: 0.6970 - val_loss: 0.5530 - val_accuracy: 0.7243\n",
            "Epoch 46/75\n",
            "33/33 [==============================] - 4s 108ms/step - loss: 0.5671 - accuracy: 0.7016 - val_loss: 0.5537 - val_accuracy: 0.7019\n",
            "Epoch 47/75\n",
            "33/33 [==============================] - 3s 104ms/step - loss: 0.5626 - accuracy: 0.7021 - val_loss: 0.5700 - val_accuracy: 0.6874\n",
            "Epoch 48/75\n",
            "33/33 [==============================] - 4s 107ms/step - loss: 0.5700 - accuracy: 0.6943 - val_loss: 0.5451 - val_accuracy: 0.7079\n",
            "Epoch 49/75\n",
            "33/33 [==============================] - 4s 109ms/step - loss: 0.5609 - accuracy: 0.7139 - val_loss: 0.5341 - val_accuracy: 0.7243\n",
            "Epoch 50/75\n",
            "33/33 [==============================] - 4s 107ms/step - loss: 0.5601 - accuracy: 0.7084 - val_loss: 0.5584 - val_accuracy: 0.7028\n",
            "Epoch 51/75\n",
            "33/33 [==============================] - 4s 110ms/step - loss: 0.5659 - accuracy: 0.7006 - val_loss: 0.5449 - val_accuracy: 0.7173\n",
            "Epoch 52/75\n",
            "33/33 [==============================] - 4s 107ms/step - loss: 0.5721 - accuracy: 0.7009 - val_loss: 0.5638 - val_accuracy: 0.7023\n",
            "Epoch 53/75\n",
            "33/33 [==============================] - 3s 106ms/step - loss: 0.5684 - accuracy: 0.7052 - val_loss: 0.5330 - val_accuracy: 0.7304\n",
            "Epoch 54/75\n",
            "33/33 [==============================] - 4s 107ms/step - loss: 0.5599 - accuracy: 0.7038 - val_loss: 0.5614 - val_accuracy: 0.6939\n",
            "Epoch 55/75\n",
            "33/33 [==============================] - 3s 104ms/step - loss: 0.5574 - accuracy: 0.7049 - val_loss: 0.5422 - val_accuracy: 0.7360\n",
            "Epoch 56/75\n",
            "33/33 [==============================] - 4s 109ms/step - loss: 0.5529 - accuracy: 0.7157 - val_loss: 0.5719 - val_accuracy: 0.6883\n",
            "Epoch 57/75\n",
            "33/33 [==============================] - 3s 105ms/step - loss: 0.5639 - accuracy: 0.6959 - val_loss: 0.5374 - val_accuracy: 0.7276\n",
            "Epoch 58/75\n",
            "33/33 [==============================] - 4s 107ms/step - loss: 0.5481 - accuracy: 0.7206 - val_loss: 0.5654 - val_accuracy: 0.6953\n",
            "Epoch 59/75\n",
            "33/33 [==============================] - 4s 108ms/step - loss: 0.5560 - accuracy: 0.7143 - val_loss: 0.5322 - val_accuracy: 0.7121\n",
            "Epoch 60/75\n",
            "33/33 [==============================] - 3s 105ms/step - loss: 0.5444 - accuracy: 0.7132 - val_loss: 0.5607 - val_accuracy: 0.7028\n",
            "Epoch 61/75\n",
            "33/33 [==============================] - 4s 107ms/step - loss: 0.5517 - accuracy: 0.7182 - val_loss: 0.5346 - val_accuracy: 0.7224\n",
            "Epoch 62/75\n",
            "33/33 [==============================] - 4s 107ms/step - loss: 0.5661 - accuracy: 0.7023 - val_loss: 0.5347 - val_accuracy: 0.7206\n",
            "Epoch 63/75\n",
            "33/33 [==============================] - 3s 105ms/step - loss: 0.5528 - accuracy: 0.7133 - val_loss: 0.5211 - val_accuracy: 0.7327\n",
            "Epoch 64/75\n",
            "33/33 [==============================] - 4s 109ms/step - loss: 0.5579 - accuracy: 0.7038 - val_loss: 0.5412 - val_accuracy: 0.7201\n",
            "Epoch 65/75\n",
            "33/33 [==============================] - 4s 106ms/step - loss: 0.5454 - accuracy: 0.7175 - val_loss: 0.5354 - val_accuracy: 0.7103\n",
            "Epoch 66/75\n",
            "33/33 [==============================] - 4s 107ms/step - loss: 0.5543 - accuracy: 0.7049 - val_loss: 0.5403 - val_accuracy: 0.7056\n",
            "Epoch 67/75\n",
            "33/33 [==============================] - 4s 106ms/step - loss: 0.5551 - accuracy: 0.7139 - val_loss: 0.5411 - val_accuracy: 0.7192\n",
            "Epoch 68/75\n",
            "33/33 [==============================] - 3s 105ms/step - loss: 0.5459 - accuracy: 0.7118 - val_loss: 0.5175 - val_accuracy: 0.7206\n",
            "Epoch 69/75\n",
            "33/33 [==============================] - 4s 106ms/step - loss: 0.5551 - accuracy: 0.7127 - val_loss: 0.5176 - val_accuracy: 0.7360\n",
            "Epoch 70/75\n",
            "33/33 [==============================] - 3s 105ms/step - loss: 0.5548 - accuracy: 0.7127 - val_loss: 0.5517 - val_accuracy: 0.7112\n",
            "Epoch 71/75\n",
            "33/33 [==============================] - 4s 108ms/step - loss: 0.5436 - accuracy: 0.7144 - val_loss: 0.5191 - val_accuracy: 0.7294\n",
            "Epoch 72/75\n",
            "33/33 [==============================] - 4s 107ms/step - loss: 0.5464 - accuracy: 0.7134 - val_loss: 0.5365 - val_accuracy: 0.7126\n",
            "Epoch 73/75\n",
            "33/33 [==============================] - 4s 108ms/step - loss: 0.5443 - accuracy: 0.7153 - val_loss: 0.5108 - val_accuracy: 0.7355\n",
            "Epoch 74/75\n",
            "33/33 [==============================] - 4s 107ms/step - loss: 0.5486 - accuracy: 0.7132 - val_loss: 0.5190 - val_accuracy: 0.7360\n",
            "Epoch 75/75\n",
            "33/33 [==============================] - 3s 105ms/step - loss: 0.5478 - accuracy: 0.7106 - val_loss: 0.5166 - val_accuracy: 0.7243\n"
          ],
          "name": "stdout"
        }
      ]
    },
    {
      "cell_type": "code",
      "metadata": {
        "id": "O3ZgbLE01m3A",
        "outputId": "02aabf96-9359-47c4-85bb-a553306b6eeb",
        "colab": {
          "base_uri": "https://localhost:8080/",
          "height": 51
        }
      },
      "source": [
        "test_loss, test_acc = model.evaluate(test_images_4, test_labels_4)\n",
        "print('test_acc: ', test_acc)"
      ],
      "execution_count": null,
      "outputs": [
        {
          "output_type": "stream",
          "text": [
            "336/336 [==============================] - 0s 258us/step\n",
            "test_acc:  0.7395833134651184\n"
          ],
          "name": "stdout"
        }
      ]
    },
    {
      "cell_type": "code",
      "metadata": {
        "id": "Exk4PjTaf4sv"
      },
      "source": [
        "#save_dir = \"/content/drive/My Drive/CompIntProjects/4classes\"\n",
        "#if not os.path.exists(save_dir):\n",
        "#  os.makedirs(save_dir)\n",
        "#model.save(os.path.join(save_dir,'4classes_multiLabel.h5'))"
      ],
      "execution_count": null,
      "outputs": []
    },
    {
      "cell_type": "code",
      "metadata": {
        "id": "1vwQeD5ges_W",
        "outputId": "5e4bbf74-6599-49a3-94ac-dd9c7f736b2a",
        "colab": {
          "base_uri": "https://localhost:8080/",
          "height": 173
        }
      },
      "source": [
        "from tensorflow.keras.models import load_model\n",
        "save_dir = \"/content/drive/My Drive/CompIntProjects/4classes\"\n",
        "model = load_model(os.path.join(save_dir,\"4classes_multiLabel.h5\"))\n",
        "test_loss, test_acc = model.evaluate(test_images_4, test_labels_4)\n",
        "print('test_acc: ', test_acc)"
      ],
      "execution_count": null,
      "outputs": [
        {
          "output_type": "stream",
          "text": [
            "WARNING:tensorflow:From /tensorflow-1.15.2/python3.6/tensorflow_core/python/ops/resource_variable_ops.py:1630: calling BaseResourceVariable.__init__ (from tensorflow.python.ops.resource_variable_ops) with constraint is deprecated and will be removed in a future version.\n",
            "Instructions for updating:\n",
            "If using Keras pass *_constraint arguments to layers.\n",
            "WARNING:tensorflow:From /tensorflow-1.15.2/python3.6/tensorflow_core/python/ops/nn_impl.py:183: where (from tensorflow.python.ops.array_ops) is deprecated and will be removed in a future version.\n",
            "Instructions for updating:\n",
            "Use tf.where in 2.0, which has the same broadcast rule as np.where\n",
            "336/336 [==============================] - 2s 5ms/sample - loss: 0.4942 - acc: 0.7574\n",
            "test_acc:  0.75744045\n"
          ],
          "name": "stdout"
        }
      ]
    },
    {
      "cell_type": "code",
      "metadata": {
        "id": "S5CCRH6sfp0_",
        "outputId": "b08293a3-ffc8-456c-bbc2-514298404be6",
        "colab": {
          "base_uri": "https://localhost:8080/",
          "height": 34
        }
      },
      "source": [
        "# confronto tra multiLabel\n",
        "prediction = model.predict(test_images_4)\n",
        "prediction = np.round(prediction)\n",
        "\n",
        "count = 0\n",
        "for i in range(0,len(test_labels_4)):\n",
        "    if (test_labels_4[i] == prediction[i]).all():\n",
        "      count = count +1\n",
        "print(count/len(test_labels_4))  # 0.56 as in 0.75^2, since accuracy for binary classification\n",
        "                                    # like bernoulli independent variable"
      ],
      "execution_count": null,
      "outputs": [
        {
          "output_type": "stream",
          "text": [
            "0.5595238095238095\n"
          ],
          "name": "stdout"
        }
      ]
    }
  ]
}