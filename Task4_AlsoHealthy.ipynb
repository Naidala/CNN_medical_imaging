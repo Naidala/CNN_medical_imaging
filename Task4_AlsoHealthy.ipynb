{
  "nbformat": 4,
  "nbformat_minor": 0,
  "metadata": {
    "colab": {
      "provenance": [],
      "authorship_tag": "ABX9TyOiloUkSXn69Te5PqlTNL2M",
      "include_colab_link": true
    },
    "kernelspec": {
      "name": "python3",
      "display_name": "Python 3"
    },
    "accelerator": "GPU"
  },
  "cells": [
    {
      "cell_type": "markdown",
      "metadata": {
        "id": "view-in-github",
        "colab_type": "text"
      },
      "source": [
        "<a href=\"https://colab.research.google.com/github/Naidala/CNN_medical_imaging/blob/main/Task4_AlsoHealthy.ipynb\" target=\"_parent\"><img src=\"https://colab.research.google.com/assets/colab-badge.svg\" alt=\"Open In Colab\"/></a>"
      ]
    },
    {
      "cell_type": "code",
      "metadata": {
        "id": "krPBxkGY26XK"
      },
      "source": [
        "EPOCHS = 55\n",
        "INIT_LR = 1e-3\n",
        "BS = 32\n",
        "IMAGE_DIMS = (150, 150, 1)"
      ],
      "execution_count": null,
      "outputs": []
    },
    {
      "cell_type": "code",
      "metadata": {
        "id": "50Bmi1Kt3A8e",
        "outputId": "452a87c9-d444-4397-c877-3452838211c7",
        "colab": {
          "base_uri": "https://localhost:8080/",
          "height": 34
        }
      },
      "source": [
        "%tensorflow_version 1.x\n",
        "import tensorflow as tf\n",
        "import numpy as np\n",
        "from tensorflow import keras\n",
        "import matplotlib.pyplot as plt\n",
        "from google.colab import drive\n",
        "import os\n",
        "from tensorflow.keras.preprocessing.image import ImageDataGenerator\n",
        "import copy\n",
        "\n",
        "\n",
        "############################\n",
        "\n",
        "def plot_acc_loss(history):\n",
        "  acc = history.history['acc']\n",
        "  val_acc = history.history['val_acc']\n",
        "  loss = history.history['loss']\n",
        "  val_loss = history.history['val_loss']\n",
        "  epochs = range(len(acc))\n",
        "\n",
        "  plt.plot(epochs, acc, 'r', label='Training acc')\n",
        "  plt.plot(epochs, val_acc, 'b', label='Validation acc')\n",
        "  plt.title('Training and validation accuracy')\n",
        "  plt.legend()\n",
        "  plt.figure()\n",
        "  plt.plot(epochs, loss, 'r', label='Training loss')\n",
        "  plt.plot(epochs, val_loss, 'b', label='Validation loss')\n",
        "  plt.title('Training and validation loss')\n",
        "  plt.legend()\n",
        "  plt.show()\n",
        "\n",
        "############################\n",
        "drive.mount('/content/drive/')\n",
        "out_path = \"/content/drive/My Drive/CompIntProjects/FinalProject2019/numpy data/\"\n",
        "\n",
        "def load_data():\n",
        "  train_images = np.load(os.path.join(out_path,'train_tensor.npy'))\n",
        "  train_labels = np.load(os.path.join(out_path,'train_labels.npy'))\n",
        "  test_images = np.load(os.path.join(out_path,'public_test_tensor.npy'))\n",
        "  test_labels = np.load(os.path.join(out_path,'public_test_labels.npy'))\n",
        "  train_images = train_images.astype('float32') / 65535   #BW 16-bit\n",
        "  train_images = train_images.reshape((len(train_images), 150, 150, 1))\n",
        "  test_images = test_images.astype('float32') / 65535\n",
        "  test_images = test_images.reshape((len(test_images), 150, 150, 1))\n",
        "  return train_images, train_labels, test_images, test_labels\n",
        "\n",
        "\n",
        "def split_patch():      # store abnormal and corrisponding normal patch, in two vector but same order\n",
        "  train_images, train_labels, test_images, test_labels = load_data()\n",
        "  train_images_norm = train_images[0:len(train_images):2]\n",
        "  train_images_ab = train_images[1:len(train_images):2]\n",
        "  train_labels_norm = train_labels[0:len(train_labels):2]\n",
        "  train_labels_ab = train_labels[1:len(train_labels):2]\n",
        "  test_images_norm = test_images[0:len(test_images):2]\n",
        "  test_images_ab = test_images[1:len(test_images):2]\n",
        "  test_labels_norm = test_labels[0:len(test_labels):2]\n",
        "  test_labels_ab = test_labels[1:len(test_labels):2]\n",
        "  for i in range(0,len(test_labels_norm)):\n",
        "    train_labels_norm[i] = train_labels_ab[i]\n",
        "    test_labels_norm[i] = test_labels_ab[i]\n",
        "  abnormal = [train_images_ab, train_labels_ab, test_images_ab, test_labels_ab]\n",
        "  normal = [train_images_norm, train_labels_norm, test_images_norm, test_labels_norm]\n",
        "  return abnormal, normal\n",
        "\n",
        "def split_for_augment(train_images, train_labels):\n",
        "  np.random.seed(5)\n",
        "  np.random.shuffle(train_images)\n",
        "  np.random.seed(5)\n",
        "  np.random.shuffle(train_labels)\n",
        "  PERCENTAGE_VALIDATION = 0.2\n",
        "  num_validation_samples = round(len(train_labels)*PERCENTAGE_VALIDATION)\n",
        "  my_val_images = copy.deepcopy(train_images[:num_validation_samples])\n",
        "  my_val_labels = copy.deepcopy(train_labels[:num_validation_samples])\n",
        "  my_train_images = copy.deepcopy(train_images[num_validation_samples:])\n",
        "  my_train_labels = copy.deepcopy(train_labels[num_validation_samples:])\n",
        "  return my_train_images, my_train_labels, my_val_images, my_val_labels"
      ],
      "execution_count": null,
      "outputs": [
        {
          "output_type": "stream",
          "text": [
            "Drive already mounted at /content/drive/; to attempt to forcibly remount, call drive.mount(\"/content/drive/\", force_remount=True).\n"
          ],
          "name": "stdout"
        }
      ]
    },
    {
      "cell_type": "code",
      "metadata": {
        "id": "EZVaTTiw3Y1_"
      },
      "source": [
        "from tensorflow.keras.utils import to_categorical\n",
        "def labels_in_four(labels):\n",
        "  for i in range(0,len(labels)):\n",
        "    labels[i] = labels[i] - 1\n",
        "  return to_categorical(labels, num_classes = 4)\n",
        "\n",
        "abnormal, normal = split_patch()\n",
        "abnormal[1] = labels_in_four(abnormal[1])\n",
        "\n",
        "test_labels = labels_in_four(abnormal[3])\n",
        "test_images_ab = abnormal[2]\n",
        "test_images_norm = normal[2]\n",
        "\n",
        "train_images_ab, train_labels_ab, val_images_ab, val_labels_ab = split_for_augment(abnormal[0], abnormal[1])\n",
        "train_images_norm, train_labels_norm, val_images_norm, val_labels_norm = split_for_augment(normal[0], normal[1])"
      ],
      "execution_count": null,
      "outputs": []
    },
    {
      "cell_type": "code",
      "metadata": {
        "id": "fBmpegiA3VJ6"
      },
      "source": [
        "#Create a standard ImageDataGenerator, then use a helper function to return multiple inputs\n",
        "# as a list along with the y values necessary to train using fit_generator\n",
        "gen = ImageDataGenerator(rotation_range = 20,\n",
        "                         shear_range = 0.3,\n",
        "                         zoom_range = 0.5,\n",
        "                         height_shift_range = 0.1,\n",
        "                         width_shift_range = 0.1,\n",
        "                         horizontal_flip = True,\n",
        "                         vertical_flip = True,\n",
        "                         fill_mode = 'nearest')\n",
        "\n",
        "# We found this function, to be used to merge our two generators\n",
        "# and let us use fit_generator for two augmented set of data.\n",
        "# We use the exact same generator with the same random seed for both the y and angle arrays\n",
        "def gen_flow_for_two_inputs(X1, X2, y):\n",
        "    genX1 = gen.flow(X1,y,  batch_size=BS,seed=666)\n",
        "    genX2 = gen.flow(X1,X2, batch_size=BS,seed=666)\n",
        "    while True:\n",
        "            X1i = genX1.next()\n",
        "            X2i = genX2.next()\n",
        "            yield [X1i[0], X2i[1]], X1i[1]  #Yield both images and their mutual label\n",
        "\n",
        "# Finally create generator\n",
        "gen_flow = gen_flow_for_two_inputs(train_images_ab, train_images_norm, train_labels_ab)"
      ],
      "execution_count": null,
      "outputs": []
    },
    {
      "cell_type": "code",
      "metadata": {
        "id": "THQ0wlZ46u_C"
      },
      "source": [
        "from keras.models import Sequential\n",
        "from keras.layers.normalization import BatchNormalization\n",
        "from keras.layers.convolutional import Conv2D\n",
        "from keras.layers.convolutional import MaxPooling2D\n",
        "from keras.layers.core import Activation\n",
        "from keras.layers.core import Dropout\n",
        "from keras.layers.core import Dense\n",
        "from keras.layers import Flatten\n",
        "from keras.layers import Input\n",
        "from keras.models import Model\n",
        "from keras.optimizers import Adam\n",
        "from keras.layers import concatenate\n",
        "\n",
        "# define two sets of inputs\n",
        "inputA = Input(shape=(150, 150, 1))\n",
        "inputB = Input(shape=(150, 150, 1))\n",
        "# the first branch operates on the first input\n",
        "x = Conv2D(32, (3, 3), activation=\"relu\")(inputA)\n",
        "x = MaxPooling2D((2, 2))(x)\n",
        "x = Conv2D(64, (3, 3), activation=\"relu\")(x)\n",
        "x = MaxPooling2D((2, 2))(x)\n",
        "x = Conv2D(128, (3, 3), activation=\"relu\")(x)\n",
        "x = MaxPooling2D((2, 2))(x)\n",
        "x = Conv2D(128, (3, 3), activation=\"relu\")(x)\n",
        "x = MaxPooling2D((2, 2))(x)\n",
        "x = Flatten()(x)\n",
        "x = Model(inputs=inputA, outputs=x)\n",
        "# the second branch opreates on the second input\n",
        "y = Conv2D(32, (3, 3), activation=\"relu\")(inputB)\n",
        "y = MaxPooling2D((2, 2))(y)\n",
        "y = Conv2D(64, (3, 3), activation=\"relu\")(y)\n",
        "y = MaxPooling2D((2, 2))(y)\n",
        "y = Conv2D(128, (3, 3), activation=\"relu\")(y)\n",
        "y = MaxPooling2D((2, 2))(y)\n",
        "y = Conv2D(128, (3, 3), activation=\"relu\")(y)\n",
        "y = MaxPooling2D((2, 2))(y)\n",
        "y = Flatten()(y)\n",
        "y = Model(inputs=inputB, outputs=y)\n",
        "# combine the output of the two branches\n",
        "combined = concatenate([x.output, y.output])\n",
        "\n",
        "z = Dropout(0.6)(combined)\n",
        "z = Dense(173, activation=\"relu\")(combined)\n",
        "z = Dense(4, activation=\"sigmoid\")(z)\n",
        "# our model will accept the inputs of the two branches and\n",
        "# then output a single value\n",
        "model = Model(inputs=[x.input, y.input], outputs=z)"
      ],
      "execution_count": null,
      "outputs": []
    },
    {
      "cell_type": "code",
      "metadata": {
        "id": "LiVtjw4UKAAo",
        "outputId": "cceee667-b80b-48ef-c459-494c058da868",
        "colab": {
          "base_uri": "https://localhost:8080/",
          "height": 1000
        }
      },
      "source": [
        "opt = Adam(lr=INIT_LR)\n",
        "model.compile(loss=\"categorical_crossentropy\", optimizer=opt, metrics=[\"acc\"])\n",
        "\n",
        "history = model.fit_generator(\n",
        "                      gen_flow,\n",
        "                      validation_data = ([val_images_ab, val_images_norm], val_labels_ab),\n",
        "                      steps_per_epoch = len(train_labels_ab) // BS,\n",
        "                      epochs = EPOCHS,\n",
        "                      validation_steps = len(val_labels_ab) // BS,\n",
        "                      shuffle = True)"
      ],
      "execution_count": null,
      "outputs": [
        {
          "output_type": "stream",
          "text": [
            "Epoch 1/55\n",
            "66/66 [==============================] - 9s 136ms/step - loss: 1.3651 - acc: 0.3490 - val_loss: 1.3640 - val_acc: 0.3495\n",
            "Epoch 2/55\n",
            "66/66 [==============================] - 8s 124ms/step - loss: 1.3575 - acc: 0.3542 - val_loss: 1.3472 - val_acc: 0.3664\n",
            "Epoch 3/55\n",
            "66/66 [==============================] - 9s 129ms/step - loss: 1.3540 - acc: 0.3589 - val_loss: 1.3384 - val_acc: 0.3720\n",
            "Epoch 4/55\n",
            "66/66 [==============================] - 9s 129ms/step - loss: 1.3495 - acc: 0.3651 - val_loss: 1.2974 - val_acc: 0.3533\n",
            "Epoch 5/55\n",
            "66/66 [==============================] - 9s 130ms/step - loss: 1.3459 - acc: 0.3599 - val_loss: 1.3278 - val_acc: 0.3645\n",
            "Epoch 6/55\n",
            "66/66 [==============================] - 9s 129ms/step - loss: 1.3483 - acc: 0.3623 - val_loss: 1.2850 - val_acc: 0.3607\n",
            "Epoch 7/55\n",
            "66/66 [==============================] - 9s 130ms/step - loss: 1.3174 - acc: 0.3575 - val_loss: 1.3120 - val_acc: 0.3495\n",
            "Epoch 8/55\n",
            "66/66 [==============================] - 9s 131ms/step - loss: 1.3338 - acc: 0.3722 - val_loss: 1.2858 - val_acc: 0.3495\n",
            "Epoch 9/55\n",
            "66/66 [==============================] - 8s 129ms/step - loss: 1.3061 - acc: 0.3518 - val_loss: 1.2797 - val_acc: 0.3477\n",
            "Epoch 10/55\n",
            "66/66 [==============================] - 9s 130ms/step - loss: 1.2694 - acc: 0.3632 - val_loss: 1.2753 - val_acc: 0.3514\n",
            "Epoch 11/55\n",
            "66/66 [==============================] - 8s 129ms/step - loss: 1.2700 - acc: 0.3570 - val_loss: 1.2369 - val_acc: 0.3514\n",
            "Epoch 12/55\n",
            "66/66 [==============================] - 9s 129ms/step - loss: 1.2920 - acc: 0.3694 - val_loss: 1.2104 - val_acc: 0.3514\n",
            "Epoch 13/55\n",
            "66/66 [==============================] - 9s 130ms/step - loss: 1.2493 - acc: 0.3575 - val_loss: 1.2101 - val_acc: 0.3495\n",
            "Epoch 14/55\n",
            "66/66 [==============================] - 9s 131ms/step - loss: 1.2223 - acc: 0.3504 - val_loss: 1.1911 - val_acc: 0.3477\n",
            "Epoch 15/55\n",
            "66/66 [==============================] - 9s 129ms/step - loss: 1.2536 - acc: 0.3665 - val_loss: 1.1293 - val_acc: 0.3514\n",
            "Epoch 16/55\n",
            "66/66 [==============================] - 9s 129ms/step - loss: 1.2068 - acc: 0.3556 - val_loss: 1.1304 - val_acc: 0.3514\n",
            "Epoch 17/55\n",
            "66/66 [==============================] - 9s 129ms/step - loss: 1.1719 - acc: 0.3599 - val_loss: 1.1213 - val_acc: 0.3533\n",
            "Epoch 18/55\n",
            "66/66 [==============================] - 9s 129ms/step - loss: 1.1748 - acc: 0.3770 - val_loss: 1.1107 - val_acc: 0.3925\n",
            "Epoch 19/55\n",
            "66/66 [==============================] - 8s 129ms/step - loss: 1.1335 - acc: 0.4410 - val_loss: 1.0653 - val_acc: 0.4841\n",
            "Epoch 20/55\n",
            "66/66 [==============================] - 9s 129ms/step - loss: 1.1750 - acc: 0.4566 - val_loss: 1.0709 - val_acc: 0.4748\n",
            "Epoch 21/55\n",
            "66/66 [==============================] - 9s 130ms/step - loss: 1.1241 - acc: 0.5111 - val_loss: 1.0370 - val_acc: 0.5084\n",
            "Epoch 22/55\n",
            "66/66 [==============================] - 9s 129ms/step - loss: 1.1072 - acc: 0.5073 - val_loss: 1.0341 - val_acc: 0.5065\n",
            "Epoch 23/55\n",
            "66/66 [==============================] - 9s 130ms/step - loss: 1.0867 - acc: 0.5173 - val_loss: 1.0230 - val_acc: 0.4935\n",
            "Epoch 24/55\n",
            "66/66 [==============================] - 8s 128ms/step - loss: 1.1166 - acc: 0.4813 - val_loss: 0.9996 - val_acc: 0.5159\n",
            "Epoch 25/55\n",
            "66/66 [==============================] - 8s 126ms/step - loss: 1.0669 - acc: 0.5192 - val_loss: 1.0197 - val_acc: 0.5271\n",
            "Epoch 26/55\n",
            "66/66 [==============================] - 8s 129ms/step - loss: 1.0794 - acc: 0.5230 - val_loss: 1.0096 - val_acc: 0.5159\n",
            "Epoch 27/55\n",
            "66/66 [==============================] - 8s 127ms/step - loss: 1.0733 - acc: 0.5344 - val_loss: 1.0115 - val_acc: 0.5402\n",
            "Epoch 28/55\n",
            "66/66 [==============================] - 8s 126ms/step - loss: 1.0567 - acc: 0.5244 - val_loss: 1.0133 - val_acc: 0.5252\n",
            "Epoch 29/55\n",
            "66/66 [==============================] - 8s 127ms/step - loss: 1.0635 - acc: 0.5320 - val_loss: 1.0671 - val_acc: 0.4897\n",
            "Epoch 30/55\n",
            "66/66 [==============================] - 8s 127ms/step - loss: 1.0380 - acc: 0.5434 - val_loss: 0.9714 - val_acc: 0.5327\n",
            "Epoch 31/55\n",
            "66/66 [==============================] - 8s 128ms/step - loss: 1.0529 - acc: 0.5244 - val_loss: 0.9942 - val_acc: 0.5346\n",
            "Epoch 32/55\n",
            "66/66 [==============================] - 8s 126ms/step - loss: 1.0208 - acc: 0.5543 - val_loss: 1.0386 - val_acc: 0.5252\n",
            "Epoch 33/55\n",
            "66/66 [==============================] - 8s 128ms/step - loss: 1.0154 - acc: 0.5301 - val_loss: 1.0448 - val_acc: 0.5215\n",
            "Epoch 34/55\n",
            "66/66 [==============================] - 8s 127ms/step - loss: 1.0256 - acc: 0.5453 - val_loss: 0.9853 - val_acc: 0.5234\n",
            "Epoch 35/55\n",
            "66/66 [==============================] - 8s 127ms/step - loss: 1.0265 - acc: 0.5349 - val_loss: 1.0217 - val_acc: 0.5234\n",
            "Epoch 36/55\n",
            "66/66 [==============================] - 8s 127ms/step - loss: 1.0125 - acc: 0.5581 - val_loss: 1.0145 - val_acc: 0.5215\n",
            "Epoch 37/55\n",
            "66/66 [==============================] - 8s 127ms/step - loss: 1.0386 - acc: 0.5410 - val_loss: 0.9753 - val_acc: 0.5290\n",
            "Epoch 38/55\n",
            "66/66 [==============================] - 8s 126ms/step - loss: 0.9939 - acc: 0.5628 - val_loss: 1.0209 - val_acc: 0.5439\n",
            "Epoch 39/55\n",
            "66/66 [==============================] - 8s 128ms/step - loss: 1.0109 - acc: 0.5533 - val_loss: 0.9773 - val_acc: 0.5234\n",
            "Epoch 40/55\n",
            "66/66 [==============================] - 8s 127ms/step - loss: 1.0051 - acc: 0.5533 - val_loss: 0.9986 - val_acc: 0.5439\n",
            "Epoch 41/55\n",
            "66/66 [==============================] - 8s 128ms/step - loss: 1.0152 - acc: 0.5514 - val_loss: 0.9695 - val_acc: 0.5402\n",
            "Epoch 42/55\n",
            "66/66 [==============================] - 8s 128ms/step - loss: 0.9767 - acc: 0.5676 - val_loss: 0.9516 - val_acc: 0.5458\n",
            "Epoch 43/55\n",
            "66/66 [==============================] - 8s 128ms/step - loss: 0.9789 - acc: 0.5737 - val_loss: 0.9575 - val_acc: 0.5364\n",
            "Epoch 44/55\n",
            "66/66 [==============================] - 9s 129ms/step - loss: 1.0074 - acc: 0.5548 - val_loss: 0.9769 - val_acc: 0.5383\n",
            "Epoch 45/55\n",
            "66/66 [==============================] - 8s 128ms/step - loss: 0.9793 - acc: 0.5538 - val_loss: 0.9718 - val_acc: 0.5308\n",
            "Epoch 46/55\n",
            "66/66 [==============================] - 8s 126ms/step - loss: 0.9856 - acc: 0.5766 - val_loss: 0.9917 - val_acc: 0.5215\n",
            "Epoch 47/55\n",
            "66/66 [==============================] - 8s 126ms/step - loss: 0.9971 - acc: 0.5571 - val_loss: 0.9653 - val_acc: 0.5589\n",
            "Epoch 48/55\n",
            "66/66 [==============================] - 8s 126ms/step - loss: 0.9603 - acc: 0.5704 - val_loss: 0.9655 - val_acc: 0.5364\n",
            "Epoch 49/55\n",
            "66/66 [==============================] - 8s 127ms/step - loss: 0.9647 - acc: 0.5766 - val_loss: 0.9814 - val_acc: 0.5439\n",
            "Epoch 50/55\n",
            "66/66 [==============================] - 8s 127ms/step - loss: 0.9818 - acc: 0.5638 - val_loss: 0.9770 - val_acc: 0.5421\n",
            "Epoch 51/55\n",
            "66/66 [==============================] - 8s 128ms/step - loss: 0.9425 - acc: 0.5718 - val_loss: 1.0035 - val_acc: 0.5084\n",
            "Epoch 52/55\n",
            "66/66 [==============================] - 8s 128ms/step - loss: 0.9367 - acc: 0.5804 - val_loss: 0.9903 - val_acc: 0.5234\n",
            "Epoch 53/55\n",
            "66/66 [==============================] - 8s 127ms/step - loss: 1.0073 - acc: 0.5761 - val_loss: 0.9690 - val_acc: 0.5402\n",
            "Epoch 54/55\n",
            "66/66 [==============================] - 8s 127ms/step - loss: 0.9516 - acc: 0.5794 - val_loss: 1.0110 - val_acc: 0.5271\n",
            "Epoch 55/55\n",
            "66/66 [==============================] - 8s 128ms/step - loss: 0.9382 - acc: 0.5880 - val_loss: 1.0231 - val_acc: 0.5065\n"
          ],
          "name": "stdout"
        }
      ]
    },
    {
      "cell_type": "code",
      "metadata": {
        "id": "odcPooLjzRL7",
        "outputId": "88b0157a-4575-45be-925c-d78f9208b010",
        "colab": {
          "base_uri": "https://localhost:8080/",
          "height": 51
        }
      },
      "source": [
        "test_loss, test_acc = model.evaluate([test_images_ab,test_images_norm], test_labels)\n",
        "print('test_acc: ', test_acc)"
      ],
      "execution_count": null,
      "outputs": [
        {
          "output_type": "stream",
          "text": [
            "336/336 [==============================] - 0s 794us/step\n",
            "test_acc:  0.488095223903656\n"
          ],
          "name": "stdout"
        }
      ]
    },
    {
      "cell_type": "code",
      "metadata": {
        "id": "UEURgN-Ini7J",
        "outputId": "db056d5c-d16a-4ba2-a0a9-9a7688d05002",
        "colab": {
          "base_uri": "https://localhost:8080/",
          "height": 562
        }
      },
      "source": [
        "plot_acc_loss(history)"
      ],
      "execution_count": null,
      "outputs": [
        {
          "output_type": "display_data",
          "data": {
            "image/png": "[encoded data removed]",
            "text/plain": [
              "<Figure size 432x288 with 1 Axes>"
            ]
          },
          "metadata": {
            "tags": [],
            "needs_background": "light"
          }
        },
        {
          "output_type": "display_data",
          "data": {
            "image/png": "[encoded data removed]",
            "text/plain": [
              "<Figure size 432x288 with 1 Axes>"
            ]
          },
          "metadata": {
            "tags": [],
            "needs_background": "light"
          }
        },
        {
          "output_type": "stream",
          "text": [
            "32\n"
          ],
          "name": "stdout"
        }
      ]
    },
    {
      "cell_type": "code",
      "metadata": {
        "id": "zXPDIckFxEC9"
      },
      "source": [
        "#save_dir = \"/content/drive/My Drive/CompIntProjects/Task4\"\n",
        "#if not os.path.exists(save_dir):\n",
        "#  os.makedirs(save_dir)\n",
        "#model.save(os.path.join(save_dir,'alsoHealthy.h5'))"
      ],
      "execution_count": null,
      "outputs": []
    }
  ]
}