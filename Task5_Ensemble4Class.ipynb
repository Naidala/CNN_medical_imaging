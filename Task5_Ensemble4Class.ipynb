{
  "nbformat": 4,
  "nbformat_minor": 0,
  "metadata": {
    "colab": {
      "provenance": [],
      "authorship_tag": "ABX9TyMa2b3ALlsdMvREoSr6oXrv",
      "include_colab_link": true
    },
    "kernelspec": {
      "name": "python3",
      "display_name": "Python 3"
    },
    "accelerator": "GPU"
  },
  "cells": [
    {
      "cell_type": "markdown",
      "metadata": {
        "id": "view-in-github",
        "colab_type": "text"
      },
      "source": [
        "<a href=\"https://colab.research.google.com/github/Naidala/CNN_medical_imaging/blob/main/Task5_Ensemble4Class.ipynb\" target=\"_parent\"><img src=\"https://colab.research.google.com/assets/colab-badge.svg\" alt=\"Open In Colab\"/></a>"
      ]
    },
    {
      "cell_type": "markdown",
      "metadata": {
        "id": "ttkc9IU0ObHw"
      },
      "source": [
        "# CONFUSION MATRIXES"
      ]
    },
    {
      "cell_type": "code",
      "metadata": {
        "id": "tyfnwIDFZ522"
      },
      "source": [
        "from sklearn import metrics\n",
        "from sklearn.metrics import confusion_matrix\n",
        "from sklearn.metrics import accuracy_score\n",
        "from sklearn.metrics import classification_report\n",
        "import matplotlib.pyplot as plt\n",
        "import numpy as np\n",
        "import itertools\n",
        "\n",
        "#Plotting of the Matrix confusion\n",
        "def plot_confusion_matrix(cm,\n",
        "                          title='Confusion matrix',\n",
        "                          cmap=None,\n",
        "                          normalize=True):\n",
        "\n",
        "  accuracy = np.trace(cm) / float(np.sum(cm))\n",
        "  misclass = 1 - accuracy\n",
        "  cmap = plt.get_cmap('Blues')\n",
        "\n",
        "  plt.figure(figsize=(8, 6))\n",
        "  plt.imshow(cm, interpolation='nearest', cmap=cmap)\n",
        "  plt.title(title)\n",
        "  plt.colorbar()\n",
        "\n",
        "  thresh = cm.max() / 1.5 if normalize else cm.max() / 2\n",
        "  for i, j in itertools.product(range(cm.shape[0]), range(cm.shape[1])):\n",
        "    plt.text(j, i, \"{:,}\".format(cm[i, j]),\n",
        "                    horizontalalignment=\"center\",\n",
        "                    color=\"white\" if cm[i, j] > thresh else \"black\")\n",
        "\n",
        "  plt.tight_layout()\n",
        "  plt.ylabel('True label')\n",
        "  plt.xticks(range(0,4),)\n",
        "  plt.yticks(range(0,4),)\n",
        "  plt.xlabel('Predicted label\\naccuracy={:0.4f}; misclass={:0.4f}'.format(accuracy, misclass))\n",
        "  plt.show()"
      ],
      "execution_count": null,
      "outputs": []
    },
    {
      "cell_type": "code",
      "metadata": {
        "id": "Ut-E6Fqobxsu",
        "outputId": "84434092-f950-4ce4-fa14-3e79ad9d1cde",
        "colab": {
          "base_uri": "https://localhost:8080/",
          "height": 139
        }
      },
      "source": [
        "%tensorflow_version 1.x\n",
        "import tensorflow as tf\n",
        "import numpy as np\n",
        "from tensorflow import keras\n",
        "import matplotlib.pyplot as plt\n",
        "from google.colab import drive\n",
        "import os\n",
        "from tensorflow.keras.preprocessing.image import ImageDataGenerator\n",
        "from tensorflow.keras.utils import to_categorical\n",
        "import copy\n",
        "\n",
        "drive.mount('/content/drive/')\n",
        "out_path = \"/content/drive/My Drive/CompIntProjects/FinalProject2019/numpy data/\"\n",
        "\n",
        "def load_data():\n",
        "  test_images = np.load(os.path.join(out_path,'public_test_tensor.npy'))\n",
        "  test_labels = np.load(os.path.join(out_path,'public_test_labels.npy'))\n",
        "  test_images = test_images.astype('float32') / 65535\n",
        "  test_images = test_images.reshape((len(test_images), 150, 150, 1))\n",
        "  test_images = test_images[1:len(test_images):2]\n",
        "  test_labels = test_labels[1:len(test_labels):2]\n",
        "  return test_images, test_labels\n",
        "\n",
        "def labels2categorical(labels):\n",
        "  for i in range(0,len(labels)):\n",
        "    labels[i] = labels[i] - 1\n",
        "  return to_categorical(labels, num_classes = 4)\n",
        "\n",
        "def ml2categorical_pred(pred_ml):   # convert prediction from multiLabel to categorical\n",
        "  pred_ctg = []\n",
        "  for i in range(0,len(pred_ml)):\n",
        "    new_pred = [0,0,0,0]\n",
        "    new_pred[0] = pred_ml[i][2]*pred_ml[i][3]   # la categorica è il prodotto di due eventi previsti indipendentemente\n",
        "    new_pred[1] = pred_ml[i][0]*pred_ml[i][3]   # che devono però verificarsi simultaneamente. Esempio:\n",
        "    new_pred[2] = pred_ml[i][2]*pred_ml[i][1]   # multilabel predice massa maligna come elevata probabilità in prima e ultima posizione [1, 0, 0, 1];\n",
        "    new_pred[3] = pred_ml[i][0]*pred_ml[i][1]   # per passare alla categorica - per cui massa maligna occupa la seconda cella - si inserisce nella cella [1]\n",
        "    pred_ctg.append(new_pred)                   # il prodotto (indicante ET tra due eventi) tra le celle [0] e [3] della multilabel\n",
        "  return pred_ctg"
      ],
      "execution_count": null,
      "outputs": [
        {
          "output_type": "stream",
          "text": [
            "TensorFlow 1.x selected.\n",
            "Go to this URL in a browser: https://accounts.google.com/o/oauth2/auth?client_id=947318989803-6bn6qk8qdgf4n4g3pfee6491hc0brc4i.apps.googleusercontent.com&redirect_uri=urn%3aietf%3awg%3aoauth%3a2.0%3aoob&response_type=code&scope=email%20https%3a%2f%2fwww.googleapis.com%2fauth%2fdocs.test%20https%3a%2f%2fwww.googleapis.com%2fauth%2fdrive%20https%3a%2f%2fwww.googleapis.com%2fauth%2fdrive.photos.readonly%20https%3a%2f%2fwww.googleapis.com%2fauth%2fpeopleapi.readonly\n",
            "\n",
            "Enter your authorization code:\n",
            "··········\n",
            "Mounted at /content/drive/\n"
          ],
          "name": "stdout"
        }
      ]
    },
    {
      "cell_type": "markdown",
      "metadata": {
        "id": "3NvM1SZi4mTY"
      },
      "source": [
        "##MULTI-LABEL"
      ]
    },
    {
      "cell_type": "code",
      "metadata": {
        "id": "2mKLd8HV3_Kp",
        "outputId": "d4f537d7-069e-46de-b0cf-324050fa04cb",
        "colab": {
          "base_uri": "https://localhost:8080/",
          "height": 139
        }
      },
      "source": [
        "from tensorflow.keras.models import load_model\n",
        "save_dir = \"/content/drive/My Drive/CompIntProjects/4classes\"\n",
        "model_ml = load_model(os.path.join(save_dir,\"4classes_multiLabel.h5\"))"
      ],
      "execution_count": null,
      "outputs": [
        {
          "output_type": "stream",
          "text": [
            "WARNING:tensorflow:From /tensorflow-1.15.2/python3.6/tensorflow_core/python/ops/resource_variable_ops.py:1630: calling BaseResourceVariable.__init__ (from tensorflow.python.ops.resource_variable_ops) with constraint is deprecated and will be removed in a future version.\n",
            "Instructions for updating:\n",
            "If using Keras pass *_constraint arguments to layers.\n",
            "WARNING:tensorflow:From /tensorflow-1.15.2/python3.6/tensorflow_core/python/ops/nn_impl.py:183: where (from tensorflow.python.ops.array_ops) is deprecated and will be removed in a future version.\n",
            "Instructions for updating:\n",
            "Use tf.where in 2.0, which has the same broadcast rule as np.where\n"
          ],
          "name": "stdout"
        }
      ]
    },
    {
      "cell_type": "code",
      "metadata": {
        "id": "nS9PTcJN4HGJ"
      },
      "source": [
        "test_images_4, test_labels_4 = load_data()\n",
        "true = np.argmax(labels2categorical(test_labels_4),axis = 1)    # true label in categorical format\n",
        "\n",
        "prediction = model_ml.predict(test_images_4) # prediction in multilabel\n",
        "pred = ml2categorical_pred(prediction) # prediction in cat\n",
        "pred = np.reshape(pred,(len(pred),4))\n",
        "pred = np.argmax(pred,axis =1)"
      ],
      "execution_count": null,
      "outputs": []
    },
    {
      "cell_type": "code",
      "metadata": {
        "id": "o7lR7aYwpq4J",
        "outputId": "1df9c6a9-ee05-4c42-e3c7-b622d8ee6aae",
        "colab": {
          "base_uri": "https://localhost:8080/",
          "height": 467
        }
      },
      "source": [
        "cm = metrics.confusion_matrix(true,pred)\n",
        "plot_confusion_matrix(cm,normalize=True)"
      ],
      "execution_count": null,
      "outputs": [
        {
          "output_type": "display_data",
          "data": {
            "image/png": "[encoded data removed]",
            "text/plain": [
              "<Figure size 576x432 with 2 Axes>"
            ]
          },
          "metadata": {
            "tags": [],
            "needs_background": "light"
          }
        }
      ]
    },
    {
      "cell_type": "markdown",
      "metadata": {
        "id": "oyB3S_Ye4VMH"
      },
      "source": [
        "## AUGMENTED"
      ]
    },
    {
      "cell_type": "code",
      "metadata": {
        "id": "-KxV7raD4rNt"
      },
      "source": [
        "test_images_4, test_labels_4 = load_data()\n",
        "test_labels_4 = labels2categorical(test_labels_4)"
      ],
      "execution_count": null,
      "outputs": []
    },
    {
      "cell_type": "code",
      "metadata": {
        "id": "1vwQeD5ges_W",
        "outputId": "d1352108-4874-431f-deac-64b6d69f58a8",
        "colab": {
          "base_uri": "https://localhost:8080/",
          "height": 190
        }
      },
      "source": [
        "from tensorflow.keras.models import load_model\n",
        "save_dir = \"/content/drive/My Drive/CompIntProjects/4classes\"\n",
        "model_aug = load_model(os.path.join(save_dir,\"4classes_aug.h5\"))\n",
        "test_loss, test_acc = model_aug.evaluate(test_images_4, test_labels_4)\n",
        "print('test_acc: ', test_acc)"
      ],
      "execution_count": null,
      "outputs": [
        {
          "output_type": "stream",
          "text": [
            "WARNING:tensorflow:From /tensorflow-1.15.2/python3.6/tensorflow_core/python/ops/init_ops.py:97: calling GlorotUniform.__init__ (from tensorflow.python.ops.init_ops) with dtype is deprecated and will be removed in a future version.\n",
            "Instructions for updating:\n",
            "Call initializer instance with the dtype argument instead of passing it to the constructor\n",
            "WARNING:tensorflow:From /tensorflow-1.15.2/python3.6/tensorflow_core/python/ops/init_ops.py:97: calling Zeros.__init__ (from tensorflow.python.ops.init_ops) with dtype is deprecated and will be removed in a future version.\n",
            "Instructions for updating:\n",
            "Call initializer instance with the dtype argument instead of passing it to the constructor\n",
            "WARNING:tensorflow:Large dropout rate: 0.6 (>0.5). In TensorFlow 2.x, dropout() uses dropout rate instead of keep_prob. Please ensure that this is intended.\n",
            "336/336 [==============================] - 0s 670us/sample - loss: 1.0454 - acc: 0.5268\n",
            "test_acc:  0.52678573\n"
          ],
          "name": "stdout"
        }
      ]
    },
    {
      "cell_type": "code",
      "metadata": {
        "id": "9SsMRPNM3Mxy",
        "outputId": "d3d396e0-b3d2-4203-b509-9553811df0e7",
        "colab": {
          "base_uri": "https://localhost:8080/",
          "height": 467
        }
      },
      "source": [
        "pred = np.argmax(model_aug.predict(test_images_4),axis =1)\n",
        "true = np.argmax(test_labels_4,axis = 1)\n",
        "cm = metrics.confusion_matrix(true,pred)\n",
        "plot_confusion_matrix(cm,normalize=False)"
      ],
      "execution_count": null,
      "outputs": [
        {
          "output_type": "display_data",
          "data": {
            "image/png": "[encoded data removed]",
            "text/plain": [
              "<Figure size 576x432 with 2 Axes>"
            ]
          },
          "metadata": {
            "tags": [],
            "needs_background": "light"
          }
        }
      ]
    },
    {
      "cell_type": "markdown",
      "metadata": {
        "id": "BwSdHK26Ko8A"
      },
      "source": [
        "##PRE-TRAINED"
      ]
    },
    {
      "cell_type": "code",
      "metadata": {
        "id": "K1QvsRl7KoW3",
        "outputId": "4d9905cc-7e75-423f-911b-27ab1b3a0c8c",
        "colab": {
          "base_uri": "https://localhost:8080/",
          "height": 51
        }
      },
      "source": [
        "test_images_fine_4 = copy.deepcopy(test_images_4.repeat(repeats = 3, axis = 3))\n",
        "test_labels_fine_4 = copy.deepcopy(test_labels_4)\n",
        "\n",
        "from tensorflow.keras.models import load_model\n",
        "save_dir = \"/content/drive/My Drive/CompIntProjects/4classes\"\n",
        "model_fine = load_model(os.path.join(save_dir,\"4classes_fine.h5\"))\n",
        "\n",
        "test_loss, test_acc = model_fine.evaluate(test_images_fine_4, test_labels_fine_4)\n",
        "print('test_acc: ', test_acc)"
      ],
      "execution_count": null,
      "outputs": [
        {
          "output_type": "stream",
          "text": [
            "336/336 [==============================] - 1s 4ms/sample - loss: 0.8111 - acc: 0.6637\n",
            "test_acc:  0.66369045\n"
          ],
          "name": "stdout"
        }
      ]
    },
    {
      "cell_type": "code",
      "metadata": {
        "id": "1mofAi_rLogU",
        "outputId": "76ac2fc4-2bcf-4fea-8ced-d4d3b540e41e",
        "colab": {
          "base_uri": "https://localhost:8080/",
          "height": 467
        }
      },
      "source": [
        "pred = np.argmax(model_fine.predict(test_images_fine_4),axis =1)\n",
        "true = np.argmax(test_labels_fine_4,axis = 1)\n",
        "cm = metrics.confusion_matrix(true,pred)\n",
        "plot_confusion_matrix(cm)"
      ],
      "execution_count": null,
      "outputs": [
        {
          "output_type": "display_data",
          "data": {
            "image/png": "[encoded data removed]",
            "text/plain": [
              "<Figure size 576x432 with 2 Axes>"
            ]
          },
          "metadata": {
            "tags": [],
            "needs_background": "light"
          }
        }
      ]
    },
    {
      "cell_type": "markdown",
      "metadata": {
        "id": "v-TkjbB4vwl9"
      },
      "source": [
        "#ENSEMBLING"
      ]
    },
    {
      "cell_type": "code",
      "metadata": {
        "id": "NRSQVzPYv1YX",
        "outputId": "2060fcdd-47cd-456f-c0c9-b899ade12c02",
        "colab": {
          "base_uri": "https://localhost:8080/",
          "height": 467
        }
      },
      "source": [
        "preds_fine = model_fine.predict(test_images_fine_4)\n",
        "preds_aug = model_aug.predict(test_images_4)\n",
        "preds_ml = ml2categorical_pred(model_ml.predict(test_images_4))\n",
        "preds_ml = np.reshape(preds_ml,(len(preds_ml),4))\n",
        "\n",
        "final_preds = (preds_fine*4 + preds_aug*2 + preds_ml*3)\n",
        "final_preds_new = np.argmax((final_preds),axis =1)\n",
        "\n",
        "cm = metrics.confusion_matrix(true,final_preds_new)\n",
        "plot_confusion_matrix(cm)"
      ],
      "execution_count": null,
      "outputs": [
        {
          "output_type": "display_data",
          "data": {
            "image/png": "[encoded data removed]",
            "text/plain": [
              "<Figure size 576x432 with 2 Axes>"
            ]
          },
          "metadata": {
            "tags": [],
            "needs_background": "light"
          }
        }
      ]
    }
  ]
}