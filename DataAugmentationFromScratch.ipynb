{
  "nbformat": 4,
  "nbformat_minor": 0,
  "metadata": {
    "colab": {
      "provenance": [],
      "toc_visible": true,
      "machine_shape": "hm",
      "authorship_tag": "ABX9TyO7sphxXcvsdmCbhicVVv/J",
      "include_colab_link": true
    },
    "kernelspec": {
      "name": "python3",
      "display_name": "Python 3"
    },
    "accelerator": "GPU"
  },
  "cells": [
    {
      "cell_type": "markdown",
      "metadata": {
        "id": "view-in-github",
        "colab_type": "text"
      },
      "source": [
        "<a href=\"https://colab.research.google.com/github/Naidala/CNN_medical_imaging/blob/main/DataAugmentationFromScratch.ipynb\" target=\"_parent\"><img src=\"https://colab.research.google.com/assets/colab-badge.svg\" alt=\"Open In Colab\"/></a>"
      ]
    },
    {
      "cell_type": "code",
      "metadata": {
        "id": "jBxFLgKRQLgu"
      },
      "source": [
        "%tensorflow_version 1.x\n",
        "import tensorflow as tf\n",
        "import numpy as np\n",
        "from tensorflow import keras\n",
        "import matplotlib.pyplot as plt\n",
        "from google.colab import drive\n",
        "import os\n",
        "import copy\n",
        "from tensorflow.keras.preprocessing.image import ImageDataGenerator\n",
        "from keras.optimizers import Adam"
      ],
      "execution_count": null,
      "outputs": []
    },
    {
      "cell_type": "code",
      "metadata": {
        "id": "XDWFa2HKyxmZ"
      },
      "source": [
        "EPOCHS = 75\n",
        "INIT_LR = 1e-3\n",
        "BS = 64\n",
        "IMAGE_DIMS = (150, 150, 1)"
      ],
      "execution_count": null,
      "outputs": []
    },
    {
      "cell_type": "code",
      "metadata": {
        "id": "v_W6gQQuSmjm"
      },
      "source": [
        "from keras.models import Sequential\n",
        "from keras.layers.normalization import BatchNormalization\n",
        "from keras.layers.convolutional import Conv2D\n",
        "from keras.layers.convolutional import MaxPooling2D\n",
        "from keras.layers.core import Activation\n",
        "from keras.layers.core import Flatten\n",
        "from keras.layers.core import Dropout\n",
        "from keras.layers.core import Dense\n",
        "\n",
        "def model_old(dropout):\n",
        "  model = Sequential()\n",
        "  model.add(Conv2D(32, (3, 3), activation='relu', input_shape=(150, 150, 1)))\n",
        "  model.add(MaxPooling2D((2, 2)))\n",
        "  model.add(Conv2D(64, (3, 3), activation='relu'))\n",
        "  model.add(MaxPooling2D((2, 2)))\n",
        "  model.add(Conv2D(128, (3, 3), activation='relu'))\n",
        "  model.add(MaxPooling2D((2, 2)))\n",
        "  model.add(Conv2D(128, (3, 3), activation='relu'))\n",
        "  model.add(MaxPooling2D((2, 2)))\n",
        "  model.add(Flatten())\n",
        "  if dropout is not 0:\n",
        "    model.add(Dropout(dropout))\n",
        "  model.add(Dense(512, activation='relu'))\n",
        "  model.add(Dense(1, activation='sigmoid'))\n",
        "  return model"
      ],
      "execution_count": null,
      "outputs": []
    },
    {
      "cell_type": "code",
      "metadata": {
        "id": "dCtVdLRg6DiC"
      },
      "source": [
        "def plot_acc_loss(history):\n",
        "  acc = history.history['acc']\n",
        "  val_acc = history.history['val_acc']\n",
        "  loss = history.history['loss']\n",
        "  val_loss = history.history['val_loss']\n",
        "  epochs = range(len(acc))\n",
        "\n",
        "  plt.plot(epochs, acc, 'r', label='Training acc')\n",
        "  plt.plot(epochs, val_acc, 'b', label='Validation acc')\n",
        "  plt.title('Training and validation accuracy')\n",
        "  plt.legend()\n",
        "  plt.figure()\n",
        "  plt.plot(epochs, loss, 'r', label='Training loss')\n",
        "  plt.plot(epochs, val_loss, 'b', label='Validation loss')\n",
        "  plt.title('Training and validation loss')\n",
        "  plt.legend()\n",
        "  plt.show()\n",
        "\n",
        "\n",
        "def best_epoch(history):      # to see when validation stop to get any better\n",
        "  x = history.history['val_loss']\n",
        "  k = 3\n",
        "  trend = []\n",
        "  stop = 0\n",
        "  for i in range(k,len(x)-k):\n",
        "    if stop == 0:\n",
        "      num = 0\n",
        "      for j in range(-k, k+1):\n",
        "        num = x[i+j] + num\n",
        "      if len(trend) == 0:\n",
        "        trend.append(num/(2*k+1))\n",
        "      elif num/(2*k+1) <= trend[len(trend)-1] + 0.005:\n",
        "        trend.append(num/(2*k+1))\n",
        "      else:\n",
        "        stop = 1\n",
        "  print(2*k+len(trend))"
      ],
      "execution_count": null,
      "outputs": []
    },
    {
      "cell_type": "markdown",
      "metadata": {
        "id": "6tukJ9_sm6kv"
      },
      "source": [
        "## Variable formulation\n",
        "We remove the healthy tissue images and give the tensors the form (2676, 150, 150, 1), and rescale the RGB pixel values (0 to 65535) so that they are between 0 and 1. We also declare a new variable for training and validation to be used when augmentation and pre-training come into play.\n",
        "We note that Assignment instructions do not copy objects, but create links between a target and an object. We use deepcopy because we want a new variable to modify without automatically modifying the original at the same time."
      ]
    },
    {
      "cell_type": "code",
      "metadata": {
        "id": "vV3nipjxDcO3"
      },
      "source": [
        "drive.mount('/content/drive/')\n",
        "out_path = \"/content/drive/My Drive/CompIntProjects_Paiano/FinalProject2019/numpy data/\"\n",
        "\n",
        "def load_data():\n",
        "  train_images = np.load(os.path.join(out_path,'train_tensor.npy'))\n",
        "  train_labels = np.load(os.path.join(out_path,'train_labels.npy'))\n",
        "  test_images = np.load(os.path.join(out_path,'public_test_tensor.npy'))\n",
        "  test_labels = np.load(os.path.join(out_path,'public_test_labels.npy'))\n",
        "  train_images = train_images.astype('float32') / 65535   #BW 16-bit, normalization\n",
        "  train_images = train_images.reshape((len(train_images), 150, 150, 1))\n",
        "  test_images = test_images.astype('float32') / 65535\n",
        "  test_images = test_images.reshape((len(test_images), 150, 150, 1))\n",
        "  return train_images, train_labels, test_images, test_labels\n",
        "\n",
        "\n",
        "def abnormal_variables():   # remove healthy patch\n",
        "  train_images, train_labels, test_images, test_labels = load_data()\n",
        "  train_images = train_images[1:len(train_images):2]\n",
        "  train_labels = train_labels[1:len(train_labels):2]\n",
        "  test_images = test_images[1:len(test_images):2]\n",
        "  test_labels = test_labels[1:len(test_labels):2]\n",
        "  return train_images, train_labels, test_images, test_labels\n",
        "\n",
        "\n",
        "def augment(train_images, train_labels):\n",
        "  np.random.seed(5)\n",
        "  np.random.shuffle(train_images)\n",
        "  np.random.seed(5)\n",
        "  np.random.shuffle(train_labels)\n",
        "  PERCENTAGE_VALIDATION = 0.2\n",
        "  num_validation_samples = round(len(train_labels)*PERCENTAGE_VALIDATION)\n",
        "  my_val_images = copy.deepcopy(train_images[:num_validation_samples])\n",
        "  my_val_labels = copy.deepcopy(train_labels[:num_validation_samples])\n",
        "  my_train_images = copy.deepcopy(train_images[num_validation_samples:])\n",
        "  my_train_labels = copy.deepcopy(train_labels[num_validation_samples:])\n",
        "  return my_train_images, my_train_labels, my_val_images, my_val_labels"
      ],
      "execution_count": null,
      "outputs": []
    },
    {
      "cell_type": "markdown",
      "metadata": {
        "id": "xUOnINz7k6bT"
      },
      "source": [
        "# **Two-class Classification**\n",
        "(Mass or Calcification)"
      ]
    },
    {
      "cell_type": "code",
      "metadata": {
        "id": "GtNJ9zOUEGuB",
        "outputId": "966ff469-fd5b-4a1e-8374-c7855ae38a68",
        "colab": {
          "base_uri": "https://localhost:8080/",
          "height": 265
        }
      },
      "source": [
        "# we divide in two groups: mass (0) and calcification (1)\n",
        "def labels_in_two(labels):\n",
        "  for i in range(0,len(labels)):\n",
        "    if labels[i] > 0 and labels[i] < 3 :\n",
        "      labels[i] = 0\n",
        "    else :\n",
        "      labels[i] = 1\n",
        "\n",
        "train_images_2, train_labels_2, test_images_2, test_labels_2 = abnormal_variables()\n",
        "plt.hist(train_labels_2)    # we show samples distribution\n",
        "plt.show()\n",
        "\n",
        "labels_in_two(train_labels_2)\n",
        "labels_in_two(test_labels_2)"
      ],
      "execution_count": null,
      "outputs": [
        {
          "output_type": "display_data",
          "data": {
            "image/png": "[encoded data removed]",
            "text/plain": [
              "<Figure size 432x288 with 1 Axes>"
            ]
          },
          "metadata": {
            "tags": [],
            "needs_background": "light"
          }
        }
      ]
    },
    {
      "cell_type": "markdown",
      "metadata": {
        "id": "V_hIpLisk2-Y"
      },
      "source": [
        "## WITHOUT AUGMENTATION"
      ]
    },
    {
      "cell_type": "code",
      "metadata": {
        "id": "XGp378DCFRip",
        "outputId": "8ed31365-9407-4a82-ee98-6f291bdb13a5",
        "colab": {
          "base_uri": "https://localhost:8080/",
          "height": 173
        }
      },
      "source": [
        "# BUILDING THE MODEL\n",
        "\n",
        "model = model_old(0)\n",
        "#opt = Adam(lr=INIT_LR, decay=INIT_LR / EPOCHS)\n",
        "opt = Adam(lr=INIT_LR)\n",
        "model.compile(loss = 'binary_crossentropy',\n",
        "              optimizer = opt,\n",
        "              metrics = ['acc'])"
      ],
      "execution_count": null,
      "outputs": [
        {
          "output_type": "stream",
          "text": [
            "WARNING:tensorflow:From /tensorflow-1.15.2/python3.6/tensorflow_core/python/ops/resource_variable_ops.py:1630: calling BaseResourceVariable.__init__ (from tensorflow.python.ops.resource_variable_ops) with constraint is deprecated and will be removed in a future version.\n",
            "Instructions for updating:\n",
            "If using Keras pass *_constraint arguments to layers.\n",
            "WARNING:tensorflow:From /usr/local/lib/python3.6/dist-packages/keras/backend/tensorflow_backend.py:4070: The name tf.nn.max_pool is deprecated. Please use tf.nn.max_pool2d instead.\n",
            "\n",
            "WARNING:tensorflow:From /tensorflow-1.15.2/python3.6/tensorflow_core/python/ops/nn_impl.py:183: where (from tensorflow.python.ops.array_ops) is deprecated and will be removed in a future version.\n",
            "Instructions for updating:\n",
            "Use tf.where in 2.0, which has the same broadcast rule as np.where\n"
          ],
          "name": "stdout"
        }
      ]
    },
    {
      "cell_type": "code",
      "metadata": {
        "id": "XwtNslqeFWm9"
      },
      "source": [
        "EPOCH = 35\n",
        "history = model.fit(train_images_2,\n",
        "                      train_labels_2,\n",
        "                      epochs = EPOCH,\n",
        "                      batch_size = BS,\n",
        "                      validation_split = 0.2,\n",
        "                      shuffle = True)"
      ],
      "execution_count": null,
      "outputs": []
    },
    {
      "cell_type": "code",
      "metadata": {
        "id": "MC0Qi9cRb1AB",
        "outputId": "ed015e71-b505-487f-f31c-8cf2fe2b3c49",
        "colab": {
          "base_uri": "https://localhost:8080/",
          "height": 51
        }
      },
      "source": [
        "test_loss, test_acc = model.evaluate(test_images_2, test_labels_2)\n",
        "print('test_acc: ', test_acc)"
      ],
      "execution_count": null,
      "outputs": [
        {
          "output_type": "stream",
          "text": [
            "336/336 [==============================] - 0s 1ms/step\n",
            "test_acc:  0.8095238208770752\n"
          ],
          "name": "stdout"
        }
      ]
    },
    {
      "cell_type": "code",
      "metadata": {
        "id": "TdmLGtFaLqYb"
      },
      "source": [
        "#save_dir = \"/content/drive/My Drive/CompIntProjects/2classes\"\n",
        "#if not os.path.exists(save_dir):\n",
        "#  os.makedirs(save_dir)\n",
        "#model.save(os.path.join(save_dir,'2classes_scratch.h5'))"
      ],
      "execution_count": null,
      "outputs": []
    },
    {
      "cell_type": "code",
      "metadata": {
        "id": "eS64ldosLu-P",
        "outputId": "dd63f547-cdde-4e00-cf87-783fa5455f44",
        "colab": {
          "base_uri": "https://localhost:8080/",
          "height": 562
        }
      },
      "source": [
        "best_epoch(history)\n",
        "plot_acc_loss(history)"
      ],
      "execution_count": null,
      "outputs": [
        {
          "output_type": "stream",
          "text": [
            "20\n"
          ],
          "name": "stdout"
        },
        {
          "output_type": "display_data",
          "data": {
            "image/png": "[encoded data removed]",
            "text/plain": [
              "<Figure size 432x288 with 1 Axes>"
            ]
          },
          "metadata": {
            "tags": [],
            "needs_background": "light"
          }
        },
        {
          "output_type": "display_data",
          "data": {
            "image/png": "[encoded data removed]",
            "text/plain": [
              "<Figure size 432x288 with 1 Axes>"
            ]
          },
          "metadata": {
            "tags": [],
            "needs_background": "light"
          }
        }
      ]
    },
    {
      "cell_type": "markdown",
      "metadata": {
        "id": "zCuvksVKkrvS"
      },
      "source": [
        "## WITH AUGMENTATION"
      ]
    },
    {
      "cell_type": "code",
      "metadata": {
        "id": "ZjDaDUmCf-Hf"
      },
      "source": [
        "my_train_images, my_train_labels, my_val_images, my_val_labels = augment(train_images_2,train_labels_2)\n",
        "\n",
        "aug2 = ImageDataGenerator(rotation_range = 20,\n",
        "                          shear_range = 0.3,\n",
        "                          zoom_range = 0.5,\n",
        "                          height_shift_range = 0.1,\n",
        "                          width_shift_range = 0.1,\n",
        "                          horizontal_flip = True,\n",
        "                          vertical_flip = True,\n",
        "                          fill_mode = 'nearest')"
      ],
      "execution_count": null,
      "outputs": []
    },
    {
      "cell_type": "code",
      "metadata": {
        "id": "IKjsVoXX2rQ4"
      },
      "source": [
        "model = model_old(0.5)\n",
        "EPOCH_AUG_2 = 100\n",
        "\n",
        "#opt = Adam(lr=INIT_LR, decay=INIT_LR / EPOCH_AUG_2)\n",
        "opt = Adam(lr=INIT_LR)\n",
        "model.compile(loss='binary_crossentropy',\n",
        "              optimizer = opt,\n",
        "              metrics=['acc'])\n",
        "\n",
        "# This time we won't have \"validation split\", as in \"fit\": that's why\n",
        "# we had \"manually\" mixed up samples and kept aside a validation set\n",
        "history = model.fit_generator(\n",
        "      aug2.flow(my_train_images,my_train_labels,batch_size = BS),\n",
        "      validation_data = (my_val_images,my_val_labels),\n",
        "      steps_per_epoch = len(my_train_labels) // BS,\n",
        "      epochs = EPOCH_AUG_2)"
      ],
      "execution_count": null,
      "outputs": []
    },
    {
      "cell_type": "code",
      "metadata": {
        "id": "-y5CtuAKC3tG",
        "outputId": "9f3c8b1d-ce8e-47ab-8974-4ab2b5d52a27",
        "colab": {
          "base_uri": "https://localhost:8080/",
          "height": 51
        }
      },
      "source": [
        "test_loss, test_acc = model.evaluate(test_images_2, test_labels_2)\n",
        "print('test_acc: ', test_acc)"
      ],
      "execution_count": null,
      "outputs": [
        {
          "output_type": "stream",
          "text": [
            "336/336 [==============================] - 0s 552us/step\n",
            "test_acc:  0.875\n"
          ],
          "name": "stdout"
        }
      ]
    },
    {
      "cell_type": "code",
      "metadata": {
        "id": "mJRKMz-WLzUA",
        "outputId": "660250ce-a47a-4b4d-cf35-a04b1c48bff3",
        "colab": {
          "base_uri": "https://localhost:8080/",
          "height": 562
        }
      },
      "source": [
        "best_epoch(history)\n",
        "plot_acc_loss(history)"
      ],
      "execution_count": null,
      "outputs": [
        {
          "output_type": "stream",
          "text": [
            "52\n"
          ],
          "name": "stdout"
        },
        {
          "output_type": "display_data",
          "data": {
            "image/png": "[encoded data removed]",
            "text/plain": [
              "<Figure size 432x288 with 1 Axes>"
            ]
          },
          "metadata": {
            "tags": [],
            "needs_background": "light"
          }
        },
        {
          "output_type": "display_data",
          "data": {
            "image/png": "[encoded data removed]",
            "text/plain": [
              "<Figure size 432x288 with 1 Axes>"
            ]
          },
          "metadata": {
            "tags": [],
            "needs_background": "light"
          }
        }
      ]
    },
    {
      "cell_type": "code",
      "metadata": {
        "id": "gYAd-KubLlcr"
      },
      "source": [
        "#save_dir = \"/content/drive/My Drive/CompIntProjects/2classes\"\n",
        "#if not os.path.exists(save_dir):\n",
        "#  os.makedirs(save_dir)\n",
        "#model.save(os.path.join(save_dir,'2classes_aug.h5'))"
      ],
      "execution_count": null,
      "outputs": []
    },
    {
      "cell_type": "markdown",
      "metadata": {
        "id": "823fHuqTD-Gs"
      },
      "source": [
        "# **Four-Class Classification (w/ augmentation)**\n",
        "(malignant masses, benign masses, malignant calcification and benign calcification)"
      ]
    },
    {
      "cell_type": "code",
      "metadata": {
        "id": "ERxbISyqEHJe",
        "outputId": "e515e361-4824-447c-b1a8-e352a7fc27a6",
        "colab": {
          "base_uri": "https://localhost:8080/",
          "height": 265
        }
      },
      "source": [
        "from tensorflow.keras.utils import to_categorical\n",
        "# We will use categorical instead of binary since classes are four, not two:\n",
        "# since to_categorical wants integers from 0 to num_classes - 1, we'll fix that\n",
        "def labels_in_four(labels):\n",
        "  for i in range(0,len(labels)):\n",
        "    labels[i] = labels[i] - 1\n",
        "  return to_categorical(labels, num_classes = 4)\n",
        "\n",
        "\n",
        "train_images_4, train_labels_4, test_images_4, test_labels_4 = abnormal_variables()\n",
        "my_train_images_4, my_train_labels_4, my_val_images_4, my_val_labels_4 = augment(train_images_4, train_labels_4)\n",
        "plt.hist(my_val_labels_4)       # we show augmented distribution mimic the real one\n",
        "plt.show()\n",
        "my_train_labels_4 = labels_in_four(my_train_labels_4)\n",
        "my_val_labels_4 = labels_in_four(my_val_labels_4)\n",
        "test_labels_4 = labels_in_four(test_labels_4)\n",
        "\n",
        "\n",
        "aug4 = ImageDataGenerator(rotation_range = 20,\n",
        "                          shear_range = 0.3,\n",
        "                          zoom_range = 0.5,\n",
        "                          height_shift_range = 0.1,\n",
        "                          width_shift_range = 0.1,\n",
        "                          horizontal_flip = True,\n",
        "                          vertical_flip = True,\n",
        "                          fill_mode = 'nearest')"
      ],
      "execution_count": null,
      "outputs": [
        {
          "output_type": "display_data",
          "data": {
            "image/png": "[encoded data removed]",
            "text/plain": [
              "<Figure size 432x288 with 1 Axes>"
            ]
          },
          "metadata": {
            "tags": [],
            "needs_background": "light"
          }
        }
      ]
    },
    {
      "cell_type": "code",
      "metadata": {
        "id": "tWP2JB8ITbl5"
      },
      "source": [
        "from tensorflow.keras import layers\n",
        "from tensorflow.keras import models\n",
        "from tensorflow.keras import optimizers\n",
        "\n",
        "model = models.Sequential()\n",
        "\n",
        "model.add(layers.Conv2D(32, (3, 3), activation='relu', input_shape=(150, 150, 1)))\n",
        "model.add(layers.MaxPooling2D((2, 2)))\n",
        "model.add(layers.Conv2D(64, (3, 3), activation='relu'))\n",
        "model.add(layers.MaxPooling2D((2, 2)))\n",
        "model.add(layers.Conv2D(64, (3, 3), activation='relu'))\n",
        "model.add(layers.MaxPooling2D((2, 2)))\n",
        "model.add(layers.Conv2D(128, (3, 3), activation='relu'))\n",
        "model.add(layers.MaxPooling2D((2, 2)))\n",
        "\n",
        "model.add(layers.Flatten())\n",
        "model.add(layers.Dropout(0.6))\n",
        "model.add(layers.Dense(173, activation='relu'))\n",
        "#model.add(layers.Dense(32, activation='relu'))\n",
        "model.add(layers.Dense(4, activation='sigmoid'))\n",
        "\n",
        "model.compile(loss = 'categorical_crossentropy',\n",
        "               optimizer = optimizers.Adam(lr = 0.0001),\n",
        "               metrics = ['acc'])"
      ],
      "execution_count": null,
      "outputs": []
    },
    {
      "cell_type": "code",
      "metadata": {
        "id": "5cP4M_NIu6QN"
      },
      "source": [
        "EPOCH_AUG_4 = 75\n",
        "history = model.fit_generator(\n",
        "      aug4.flow(my_train_images_4,my_train_labels_4,batch_size = BS),\n",
        "      validation_data = (my_val_images_4,my_val_labels_4),\n",
        "      steps_per_epoch = len(my_train_labels_4) // BS,\n",
        "      epochs = EPOCH_AUG_4,\n",
        "      validation_steps = len(my_val_labels_4) // BS,\n",
        "      shuffle = True)"
      ],
      "execution_count": null,
      "outputs": []
    },
    {
      "cell_type": "code",
      "metadata": {
        "id": "MQdRjg_TTgkK"
      },
      "source": [
        "test_loss, test_acc = model.evaluate(test_images_4, test_labels_4)\n",
        "print('test_acc: ', test_acc)\n",
        "best_epoch(history)\n",
        "plot_acc_loss(history)"
      ],
      "execution_count": null,
      "outputs": []
    },
    {
      "cell_type": "code",
      "metadata": {
        "id": "BidNkNq-sULO"
      },
      "source": [
        "#save_dir = \"/content/drive/My Drive/CompIntProjects/4classes\"\n",
        "#if not os.path.exists(save_dir):\n",
        "#  os.makedirs(save_dir)\n",
        "#model.save(os.path.join(save_dir,'4classes_aug.h5'))"
      ],
      "execution_count": null,
      "outputs": []
    }
  ]
}